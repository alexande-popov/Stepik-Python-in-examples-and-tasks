{
 "cells": [
  {
   "cell_type": "markdown",
   "id": "a5d98f3c",
   "metadata": {},
   "source": [
    "# 3.2 Задача. О выстреле из пушки"
   ]
  },
  {
   "cell_type": "markdown",
   "id": "7be42956",
   "metadata": {},
   "source": [
    "## Задача\n",
    "Установленная на горе пушка стреляет под углом к горизонту. С помощью интервальной съемки получили траекторию движения снаряда. В таблице приведены его координаты, отснятые в некоторые моменты времени. \n",
    "```\n",
    "x, м:  18.6, 99.9,  157.2, 219.9, 303.7, 399.6, 452.5, 528.4, 613.8, 669.7,  750.6, 816.2, 906.2\n",
    "h, м:  85.7, 173.8, 196.7, 259.6, 332.5, 379.3, 414.2, 419.7, 461.3, 438.9,  447.8, 434.1, 441.4\n",
    "```\n",
    "Определить:\n",
    "\n",
    "1. На какой высоте установлена пушка ?\n",
    "2. Попадет ли снаряд в мишень, если ее центр расположен в точке x = 1450  метров на высоте h = 51 метр, а радиус мишени - 50 см?\n",
    "\n",
    "Показать траекторию движения снаряда на графике."
   ]
  },
  {
   "cell_type": "code",
   "execution_count": 1,
   "id": "b80882f2",
   "metadata": {},
   "outputs": [
    {
     "data": {
      "text/plain": [
       "array([-7.55031968e-04,  1.08639341e+00,  6.35317385e+01])"
      ]
     },
     "execution_count": 1,
     "metadata": {},
     "output_type": "execute_result"
    }
   ],
   "source": [
    "import numpy as np\n",
    "\n",
    "# Сформируем массивы координат движения снаряда:\n",
    "x_array = np.array([18.6, 99.9, 157.2, 219.9, 303.7, 399.6, 452.5, 528.4, 613.8, 669.7, 750.6, 816.2, 906.2])\n",
    "h_array = np.array([85.7, 173.8, 196.7, 259.6, 332.5, 379.3, 414.2, 419.7, 461.3, 438.9, 447.8, 434.1, 441.4])\n",
    "\n",
    "# Построим траекторию движения снаряда, используя в качестве линии тренда полином второй степени. Найдем его коэффициенты:\n",
    "\n",
    "a = np.polyfit(x_array, h_array, 2)\n",
    "a"
   ]
  },
  {
   "cell_type": "code",
   "execution_count": 2,
   "id": "1d4b3b92",
   "metadata": {},
   "outputs": [],
   "source": [
    "def get_trend(x, a):\n",
    "    \"\"\"для вычисления значений полинома второй степени в точке x\"\"\"\n",
    "    y = a[0] * x **2 + a[1]* x + a[2]\n",
    "    return y"
   ]
  },
  {
   "cell_type": "code",
   "execution_count": 3,
   "id": "0c93a560",
   "metadata": {},
   "outputs": [
    {
     "name": "stdout",
     "output_type": "stream",
     "text": [
      "Высота, на которой стоит пушка:  63.53 м\n"
     ]
    }
   ],
   "source": [
    "# вычислим высоту, на которой находилась пушка. Значение координаты по оси ОХ в этой точке равно 0.\n",
    "\n",
    "h_zero = get_trend(0, a)\n",
    "\n",
    "print(\"Высота, на которой стоит пушка: %6.2f м\" % h_zero)"
   ]
  },
  {
   "cell_type": "code",
   "execution_count": 4,
   "id": "25d76342",
   "metadata": {},
   "outputs": [
    {
     "name": "stdout",
     "output_type": "stream",
     "text": [
      "Высота, в точке 1450 м:  51.35 м\n"
     ]
    }
   ],
   "source": [
    "# Вычислим, на какой высоте будет находиться снаряд в точке по оси ОХ, где расположена мишень\n",
    "\n",
    "x_target = 1450\n",
    "h_target = get_trend(x_target, a)\n",
    "\n",
    "print(\"Высота, в точке %4d м: %6.2f м\" % (x_target, h_target))"
   ]
  },
  {
   "cell_type": "code",
   "execution_count": 5,
   "id": "33eb315b",
   "metadata": {},
   "outputs": [
    {
     "name": "stdout",
     "output_type": "stream",
     "text": [
      "Снаряд попадет в мишень.\n"
     ]
    }
   ],
   "source": [
    "# Определим, попадет ли снаряд в цель, \n",
    "# если известно что мишень расположена на высоте 51 метр, учитывая, что радиус мишени 50 см = 0.5 м. \n",
    "# Для этого найдем модуль разности между высотой, на которой расположена мишень, и положением снаряда, \n",
    "# вычисленного с помощью линии тренда. Затем сравним полученное значение с радиусом мишени и выведем результат.\n",
    "\n",
    "delta_h = abs(51 - h_target)\n",
    "\n",
    "if delta_h <= 0.5:\n",
    "    print(\"Снаряд попадет в мишень.\")\n",
    "else:\n",
    "    print(\"Снаряд не попадет в мишень.\")"
   ]
  },
  {
   "cell_type": "code",
   "execution_count": 12,
   "id": "48ad86f1",
   "metadata": {},
   "outputs": [
    {
     "data": {
      "image/png": "[encoded data removed]",
      "text/plain": [
       "<Figure size 432x288 with 1 Axes>"
      ]
     },
     "metadata": {
      "needs_background": "light"
     },
     "output_type": "display_data"
    }
   ],
   "source": [
    "import matplotlib.pyplot as plt\n",
    "\n",
    "# Создадим списки, необходимые для построения линии тренда:\n",
    "\n",
    "x_trend = [i for i in range(0,1500,10)]\n",
    "y_trend = [get_trend(x, a) for x in x_trend]\n",
    "\n",
    "plt.plot(x_array, h_array, 'go', label=\"положение снаряда\")\n",
    "plt.plot(x_trend, y_trend, 'r-', label=\"линия тренда\")\n",
    "plt.plot(x_target, h_target, 'b+', markersize=12)\n",
    "\n",
    "plt.gca().spines[\"left\"].set_position(\"zero\")\n",
    "plt.gca().spines[\"bottom\"].set_position(\"zero\")\n",
    "plt.gca().spines[\"top\"].set_visible(False)\n",
    "plt.gca().spines[\"right\"].set_visible(False)\n",
    "plt.legend(loc=\"lower center\")\n",
    "plt.show()"
   ]
  },
  {
   "cell_type": "code",
   "execution_count": null,
   "id": "3865fb3d",
   "metadata": {},
   "outputs": [],
   "source": [
    "\n"
   ]
  },
  {
   "cell_type": "markdown",
   "id": "5ca8dda3",
   "metadata": {},
   "source": [
    "## Задача\n",
    "Даны точки на плоскости, координаты которых занесены в массивы `x_array` и `y_array`. Постройте по этим точкам наиболее подходящий тренд: линейный (полином первой степени)  или квадратичный (полином второй степени). Для этого для каждого типа тренда:\n",
    "\n",
    "* найдите коэффициенты полинома;\n",
    "* сформируйте массив значений, посчитанных по формуле тренда в точках  x_array;\n",
    "* вычислите среднюю ошибку между известными значениями y_array и посчитанными с помощью формулы тренда (начала посчитать относительную погрешность между координатой  точки по оси ОУ и значением тренда в этой точке, потом найти среднее значение погрешности). \n",
    "* Далее необходимо сравнить среднюю погрешность двух трендов и вывести коэффициенты тренда  с наименьшей средней ошибкой. Если ошибки одинаковы, то выводить коэффициенты полинома второй степени.\n",
    "\n",
    "**Входные данные:**\n",
    "\n",
    "* строка, в которой через пробел заданы координаты точек по оси OX (вещественные числа);\n",
    "* строка, в которой через пробел заданы координаты точек по оси OY (вещественные числа).\n",
    "\n",
    "**Выходные данные:**\n",
    "\n",
    "* коэффициенты полинома, описывающего линию тренда.\n",
    "\n",
    "Для вывода коэффициентов используйте форматный вывод:\n",
    "```\n",
    "\"%5.3f %5.3f\"\n",
    "```\n",
    "или\n",
    "```\n",
    "\"%5.3f %5.3f %5.3f\"\n",
    "```\n",
    "___\n",
    "\n",
    "**Sample Input 1:**\n",
    "```\n",
    "-8.9 -8.5 -8.0 -7.1 -6.8 -6.1 -5.6 -5.5 -5.2 -5.2 -5.2 -4.2 -4.1 -3.5\n",
    "-1.4 -1.2 -1.1 -0.9 -0.8 -0.6 -0.5 -0.4 -0.3 -0.3 -0.3 -0.1 0.1 0.1\n",
    "```\n",
    "**Sample Output 1:**\n",
    "```\n",
    "0.282 1.141\n",
    "```\n",
    "___\n",
    "\n",
    "**Sample Input 2:**\n",
    "```\n",
    "2.7 2.8 3.3 4.2 4.4 4.8 5.1 7.1 7.4 7.5\n",
    "4.5 4.6 4.7 5.0 5.1 5.2 5.3 6.0 6.1 6.2\n",
    "```\n",
    "**Sample Output 2:**\n",
    "```\n",
    "0.007 0.268 3.756\n",
    "```\n",
    "___\n",
    "\n",
    "**Sample Input 3:**\n",
    "```\n",
    "-0.8 0.2 0.3 0.6 0.6 0.8 1.0 1.3 1.3 1.5 2.3 2.5 2.9 2.9 3.2 4.2 4.2\n",
    "6.2 2.1 1.8 1.1 1.1 0.7 0.3 0.1 0.1 -0.1 0.2 0.5 1.3 1.3 2.1 6.2 6.2\n",
    "```\n",
    "**Sample Output 3:**\n",
    "```\n",
    "1.012 -3.443 2.788\n",
    "```"
   ]
  },
  {
   "cell_type": "code",
   "execution_count": 70,
   "id": "cd210e13",
   "metadata": {},
   "outputs": [
    {
     "name": "stdout",
     "output_type": "stream",
     "text": [
      "0.282 1.141\n"
     ]
    }
   ],
   "source": [
    "import numpy as np\n",
    "\n",
    "get_trend = lambda x, a, n: sum([a[i]*x**(n-i-1) for i in range(n)])\n",
    "\n",
    "# x_array = np.array(input().split(), dtype = float)\n",
    "# y_array = np.array(input().split(), dtype = float)\n",
    "\n",
    "x_array = np.array('-8.9 -8.5 -8.0 -7.1 -6.8 -6.1 -5.6 -5.5 -5.2 -5.2 -5.2 -4.2 -4.1 -3.5'.split(), dtype = float)\n",
    "y_array = np.array('-1.4 -1.2 -1.1 -0.9 -0.8 -0.6 -0.5 -0.4 -0.3 -0.3 -0.3 -0.1 0.1 0.1'.split(), dtype = float)\n",
    "n = 2\n",
    "\n",
    "coeff = []\n",
    "avg = []\n",
    "for i in range(1,n+1):\n",
    "    \n",
    "    # fit model\n",
    "    c = np.polyfit(x_array, y_array, i)\n",
    "    y_model = get_trend(x_array, c, i)\n",
    "    \n",
    "    # error\n",
    "    d = abs((y_model - y_array) / y_array)\n",
    "    \n",
    "    coeff.append(c)\n",
    "    avg.append(np.average(d))\n",
    "    \n",
    "print(*[f\"{x:5.3f}\" for x in coeff[avg.index(min(avg))]])"
   ]
  },
  {
   "cell_type": "code",
   "execution_count": null,
   "id": "e8b1ef12",
   "metadata": {},
   "outputs": [],
   "source": []
  }
 ],
 "metadata": {
  "kernelspec": {
   "display_name": "Python 3",
   "language": "python",
   "name": "python3"
  },
  "language_info": {
   "codemirror_mode": {
    "name": "ipython",
    "version": 3
   },
   "file_extension": ".py",
   "mimetype": "text/x-python",
   "name": "python",
   "nbconvert_exporter": "python",
   "pygments_lexer": "ipython3",
   "version": "3.8.11"
  }
 },
 "nbformat": 4,
 "nbformat_minor": 5
}
