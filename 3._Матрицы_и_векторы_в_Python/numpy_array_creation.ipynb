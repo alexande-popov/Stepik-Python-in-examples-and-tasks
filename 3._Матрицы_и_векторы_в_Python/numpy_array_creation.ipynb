{
 "cells": [
  {
   "cell_type": "markdown",
   "id": "86e6b785",
   "metadata": {},
   "source": [
    "# Создание массивов\n",
    "\n",
    "https://numpy.org/doc/stable/user/basics.creation.html"
   ]
  },
  {
   "cell_type": "markdown",
   "id": "ab19e49f",
   "metadata": {},
   "source": [
    "**Оглавление**:\n",
    "\n",
    "[Преобразование последовательностей Python в массивы NumPy](#Преобразование-последовательностей-Python-в-массивы-NumPy)\n",
    "\n",
    "* [Создание массива с помощью `np.array()`](#Создание-массива-с-помощью-np.array())\n",
    "* [Создание массива через списки](Создание-массива-через-списки)\n",
    "* [Создание массива через кортежи](#Создание-массива-через-кортежи)\n",
    "\n",
    "[Встроенные функции создания массива NumPy](#Встроенные-функции-создания-массива-NumPy)\n",
    "\n",
    "[Функции создания 1D массивов `numpy.linspace` и `numpy.arange`](#Функции-создания-1D-массивов-numpy.linspace-и-numpy.arange)\n",
    "\n",
    "* [Функции создания 1D массивов `numpy.arange`](#Функции-создания-1D-массивов-numpy.arange)\n",
    "* [Функции создания 1D массивов `numpy.linspace`](#Функции-создания-1D-массивов-numpy.linspace)\n",
    "* [Функции создания 1D массивов `numpy.geomspace` и `numpy.logspace`](#Функции-создания-1D-массивов-numpy.geomspace-и-numpy.logspace)\n",
    "\n",
    "[Функции создания 2D массивов `numpy.eye`, `numpy.diag` и `numpy.vander`](#Функции-создания-2D-массивов-numpy.eye,-numpy.diag-и-numpy.vander)\n",
    "\n",
    "[Общие функции создания ndarray](#Общие-функции-создания-ndarray): \n",
    "[`numpy.zeros`](#Функция-numpy.zeros), \n",
    "[`numpy.ones`](#Функция-numpy.ones), \n",
    "[`numpy.full`](#Функция-numpy.full),\n",
    "[`numpy.empty`](#Функция-numpy.empty),\n",
    "[Функции `numpy.something_like`](#Функции-numpy.zeros_like,-ones_like,-empty_like,-full_like), \n",
    "[`numpy.random`](#Функции-numpy.random), \n",
    "[`numpy.iniform`](#Функция-numpy.iniform), \n",
    "[`numpy.indices`](#Функция-numpy.indices), [](#)"
   ]
  },
  {
   "cell_type": "markdown",
   "id": "54591094",
   "metadata": {},
   "source": [
    "**Другая систематика**:\n",
    "\n",
    "Из формы или значения:\n",
    "\n",
    "* `empty` - Return a new array of given shape and type, without initializing entries.\n",
    "\n",
    "* `empty_like` - Return a new array with the same shape and type as a given array.\n",
    "\n",
    "* `eye` - Return a 2-D array with ones on the diagonal and zeros elsewhere.\n",
    "\n",
    "* `identity` - Return the identity array.\n",
    "\n",
    "* `ones` - Return a new array of given shape and type, filled with ones.\n",
    "\n",
    "* `ones_like` - Return an array of ones with the same shape and type as a given array.\n",
    "\n",
    "* `zeros` - Return a new array of given shape and type, filled with zeros.\n",
    "\n",
    "* `zeros_like` - Return an array of zeros with the same shape and type as a given array.\n",
    "\n",
    "* `full` - Return a new array of given shape and type, filled with fill_value.\n",
    "\n",
    "* `full_like` - Return a full array with the same shape and type as a given array.\n",
    "\n",
    "Из существующих данных\n",
    "\n",
    "* `array` - Create an array.\n",
    "\n",
    "* `asarray` - Convert the input to an array.\n",
    "\n",
    "* `asanyarray` - Convert the input to an ndarray, but pass ndarray subclasses through.\n",
    "\n",
    "* `ascontiguousarray` - Return a contiguous array (ndim >= 1) in memory (C order).\n",
    "\n",
    "* `asmatrix` - Interpret the input as a matrix.\n",
    "\n",
    "* `copy` - Return an array copy of the given object.\n",
    "\n",
    "* `frombuffer` - Interpret a buffer as a 1-dimensional array.\n",
    "\n",
    "* `from_dlpack` - Create a NumPy array from an object implementing the __dlpack__ protocol.\n",
    "\n",
    "* `fromfile` - Construct an array from data in a text or binary file.\n",
    "\n",
    "* `fromfunction` - Construct an array by executing a function over each coordinate.\n",
    "\n",
    "* `fromiter` - Create a new 1-dimensional array from an iterable object.\n",
    "\n",
    "* `fromstring` - A new 1-D array initialized from text data in a string.\n",
    "\n",
    "* `loadtxt` - Load data from a text file.\n",
    "\n",
    "Числовые интервалы\n",
    "\n",
    "* `arange` - Return evenly spaced values within a given interval.\n",
    "\n",
    "* `linspace` - Return evenly spaced numbers over a specified interval.\n",
    "\n",
    "* `logspace` - Return numbers spaced evenly on a log scale.\n",
    "\n",
    "* `geomspace` - Return numbers spaced evenly on a log scale (a geometric progression).\n",
    "\n",
    "* `meshgrid` - Return a list of coordinate matrices from coordinate vectors.\n",
    "\n",
    "* `mgrid` - An instance which returns a dense multi-dimensional \"meshgrid\".\n",
    "\n",
    "* `ogrid` - An instance which returns an open multi-dimensional \"meshgrid\".\n",
    "\n",
    "Формы матрицы\n",
    "\n",
    "* `diag` - Extract a diagonal or construct a diagonal array.\n",
    "\n",
    "* `diagflat` - Create a two-dimensional array with the flattened input as a diagonal.\n",
    "\n",
    "* `tri` - An array with ones at and below the given diagonal and zeros elsewhere.\n",
    "\n",
    "* `tril` - Lower triangle of an array.\n",
    "\n",
    "* `triu` - Upper triangle of an array.\n",
    "\n",
    "* `vander` - Generate a Vandermonde matrix.\n",
    "\n",
    "Класс Матриц\n",
    "\n",
    "* `mat` - Interpret the input as a matrix.\n",
    "\n",
    "* `bmat` - Build a matrix object from a string, nested sequence, or array."
   ]
  },
  {
   "cell_type": "markdown",
   "id": "eea0ffa0",
   "metadata": {},
   "source": [
    "Существует 6 основных механизмов создания массивов:\n",
    "\n",
    "1. Преобразование из других структур Python (например, списков и кортежей)\n",
    "\n",
    "2. Встроенные функции создания массива NumPy (например, `arange`, `ones`, `zeros` и т. д.)\n",
    "\n",
    "3. Репликация, объединение или изменение существующих массивов\n",
    "\n",
    "4. Чтение массивов с диска в стандартном или пользовательском формате\n",
    "\n",
    "5. Создание массивов из необработанных байтов с помощью строк или буферов\n",
    "\n",
    "6. Использование специальных библиотечных функций (например, `random`)\n",
    "\n",
    "Вы можете использовать эти методы для создания ndarrays или структурированных массивов. В этом документе рассматриваются общие методы создания ndarray.\n",
    "\n",
    "ndarray значит N-размерный массив."
   ]
  },
  {
   "cell_type": "markdown",
   "id": "8359a576",
   "metadata": {},
   "source": [
    "## Преобразование последовательностей Python в массивы NumPy\n",
    "\n",
    "Массивы NumPy можно определить с помощью последовательностей Python, таких как списки и кортежи. Списки и кортежи определяются с использованием `[...]` и `(...)` соответственно. Списки и кортежи могут определять создание ndarray:\n",
    "\n",
    "* список чисел создаст массив 1D,\n",
    "* список списков создаст 2D-массив,\n",
    "* дальнейшие вложенные списки будут создавать массивы более высокой размерности. В общем, любой объект массива называется ndarray в NumPy."
   ]
  },
  {
   "cell_type": "markdown",
   "id": "54689856",
   "metadata": {},
   "source": [
    "### Создание массива с помощью `np.array()`"
   ]
  },
  {
   "cell_type": "markdown",
   "id": "08d7a4af",
   "metadata": {},
   "source": [
    "#### Создание массива через списки"
   ]
  },
  {
   "cell_type": "code",
   "execution_count": 1,
   "id": "3ec3050b",
   "metadata": {},
   "outputs": [],
   "source": [
    "import numpy as np"
   ]
  },
  {
   "cell_type": "code",
   "execution_count": 2,
   "id": "33d9dcaa",
   "metadata": {},
   "outputs": [
    {
     "data": {
      "text/plain": [
       "array([1, 2, 3, 4])"
      ]
     },
     "execution_count": 2,
     "metadata": {},
     "output_type": "execute_result"
    }
   ],
   "source": [
    "a1D = np.array([1, 2, 3, 4])\n",
    "a1D"
   ]
  },
  {
   "cell_type": "code",
   "execution_count": 3,
   "id": "84df3e0a",
   "metadata": {},
   "outputs": [
    {
     "data": {
      "text/plain": [
       "array([[1, 2],\n",
       "       [3, 4]])"
      ]
     },
     "execution_count": 3,
     "metadata": {},
     "output_type": "execute_result"
    }
   ],
   "source": [
    "a2D = np.array([[1, 2], [3, 4]])\n",
    "a2D"
   ]
  },
  {
   "cell_type": "code",
   "execution_count": 4,
   "id": "1e1e38d4",
   "metadata": {},
   "outputs": [
    {
     "data": {
      "text/plain": [
       "array([[[1, 2],\n",
       "        [3, 4]],\n",
       "\n",
       "       [[5, 6],\n",
       "        [7, 8]]])"
      ]
     },
     "execution_count": 4,
     "metadata": {},
     "output_type": "execute_result"
    }
   ],
   "source": [
    "a3D = np.array([[[1, 2], [3, 4]], [[5, 6], [7, 8]]])\n",
    "a3D"
   ]
  },
  {
   "cell_type": "markdown",
   "id": "d17cb765",
   "metadata": {},
   "source": [
    "Когда вы используете `numpy.array` для определения нового массива, вы должны учитывать dtype элементов в массиве, который может быть указан явно. Эта функция дает вам больший контроль над базовыми структурами данных и тем, как элементы обрабатываются в функциях C/C++. Если вы не будете осторожны с назначениями dtype, вы можете получить нежелательное переполнение как такое."
   ]
  },
  {
   "cell_type": "code",
   "execution_count": 5,
   "id": "e3971853",
   "metadata": {},
   "outputs": [
    {
     "data": {
      "text/plain": [
       "array([ 127, -128, -127], dtype=int8)"
      ]
     },
     "execution_count": 5,
     "metadata": {},
     "output_type": "execute_result"
    }
   ],
   "source": [
    "a = np.array([127, 128, 129], dtype=np.int8)\n",
    "a"
   ]
  },
  {
   "cell_type": "markdown",
   "id": "56a01610",
   "metadata": {},
   "source": [
    "8-битное целое число со знаком представляет целые числа от -128 до 127. Присвоение массиву int8 целых чисел за пределами этого диапазона приводит к переполнению. Эту особенность часто можно неправильно понять. Если вы выполняете вычисления с несовпадающими типами dtype, вы можете получить нежелательные результаты."
   ]
  },
  {
   "cell_type": "markdown",
   "id": "856bbd3e",
   "metadata": {},
   "source": [
    "#### Создание массива через кортежи\n",
    "\n",
    "Ничего существенно новогою Функция `np.array()` также может принимать последовательности кортежей и взаимосвязанных списков во всевозможных комбинациях."
   ]
  },
  {
   "cell_type": "code",
   "execution_count": 6,
   "id": "0e4ca246",
   "metadata": {},
   "outputs": [
    {
     "data": {
      "text/plain": [
       "array([3, 1, 2])"
      ]
     },
     "execution_count": 6,
     "metadata": {},
     "output_type": "execute_result"
    }
   ],
   "source": [
    "a = np.array((3, 1, 2))\n",
    "a"
   ]
  },
  {
   "cell_type": "code",
   "execution_count": 7,
   "id": "80cad0eb",
   "metadata": {},
   "outputs": [
    {
     "data": {
      "text/plain": [
       "array([[1, 2],\n",
       "       [3, 4]])"
      ]
     },
     "execution_count": 7,
     "metadata": {},
     "output_type": "execute_result"
    }
   ],
   "source": [
    "a = np.array(((1, 2), (3, 4)))\n",
    "a"
   ]
  },
  {
   "cell_type": "code",
   "execution_count": 8,
   "id": "f6e47c32",
   "metadata": {},
   "outputs": [
    {
     "data": {
      "text/plain": [
       "array([[1, 2],\n",
       "       [3, 4]])"
      ]
     },
     "execution_count": 8,
     "metadata": {},
     "output_type": "execute_result"
    }
   ],
   "source": [
    "a = np.array(([1, 2], (3, 4)))\n",
    "a"
   ]
  },
  {
   "cell_type": "code",
   "execution_count": 9,
   "id": "9a7918cd",
   "metadata": {},
   "outputs": [
    {
     "data": {
      "text/plain": [
       "array([[1, 2],\n",
       "       [3, 4]])"
      ]
     },
     "execution_count": 9,
     "metadata": {},
     "output_type": "execute_result"
    }
   ],
   "source": [
    "a = np.array([(1, 2), (3, 4)])\n",
    "a"
   ]
  },
  {
   "cell_type": "code",
   "execution_count": null,
   "id": "76db45a9",
   "metadata": {},
   "outputs": [],
   "source": []
  },
  {
   "cell_type": "markdown",
   "id": "a60daeb4",
   "metadata": {},
   "source": [
    "## Встроенные функции создания массива NumPy\n",
    "\n",
    "NumPy имеет более 40 встроенных функций для создания массивов, как описано в процедурах создания массивов. Эти функции можно разделить примерно на три категории в зависимости от размерности создаваемого ими массива:\n",
    "\n",
    "* 1D массивы\n",
    "\n",
    "* 2D массивы\n",
    "\n",
    "* ndarrays"
   ]
  },
  {
   "cell_type": "markdown",
   "id": "be377fb1",
   "metadata": {},
   "source": [
    "### Функции создания 1D массивов `numpy.linspace` и `numpy.arange`\n",
    "\n",
    "Функции создания массива 1D, например, `numpy.linspace` и `numpy.arange`. Включают входные параметры: `start`, `stop`, `step`.\n",
    "\n",
    "А также `geomspace`, `logspace`."
   ]
  },
  {
   "cell_type": "markdown",
   "id": "427c5247",
   "metadata": {},
   "source": [
    "#### Функции создания 1D массивов `numpy.arange`\n",
    "`numpy.arange` создает массивы с регулярно увеличивающимися значениями."
   ]
  },
  {
   "cell_type": "code",
   "execution_count": 10,
   "id": "20c6961e",
   "metadata": {},
   "outputs": [
    {
     "data": {
      "text/plain": [
       "array([0, 1, 2, 3, 4, 5, 6, 7, 8, 9])"
      ]
     },
     "execution_count": 10,
     "metadata": {},
     "output_type": "execute_result"
    }
   ],
   "source": [
    "np.arange(10)"
   ]
  },
  {
   "cell_type": "code",
   "execution_count": 11,
   "id": "b88966f5",
   "metadata": {},
   "outputs": [
    {
     "data": {
      "text/plain": [
       "array([2., 3., 4., 5., 6., 7., 8., 9.])"
      ]
     },
     "execution_count": 11,
     "metadata": {},
     "output_type": "execute_result"
    }
   ],
   "source": [
    "np.arange(2, 10, dtype=float)"
   ]
  },
  {
   "cell_type": "code",
   "execution_count": 12,
   "id": "6fd039a3",
   "metadata": {},
   "outputs": [
    {
     "data": {
      "text/plain": [
       "array([2. , 2.1, 2.2, 2.3, 2.4, 2.5, 2.6, 2.7, 2.8, 2.9])"
      ]
     },
     "execution_count": 12,
     "metadata": {},
     "output_type": "execute_result"
    }
   ],
   "source": [
    "np.arange(2, 3, 0.1)"
   ]
  },
  {
   "cell_type": "markdown",
   "id": "6a85d3d2",
   "metadata": {},
   "source": [
    "Примечание. Лучшей практикой для numpy.arange является использование целых значений начала, конца и шага. Есть некоторые тонкости относительно dtype. Во втором примере определен dtype. В третьем примере массив имеет тип dtype=float, что соответствует размеру шага 0,1. Из-за ошибки округления иногда включается стоп-значение."
   ]
  },
  {
   "cell_type": "markdown",
   "id": "7b081450",
   "metadata": {},
   "source": [
    "Полный синтаксис:\n",
    "\n",
    "```python\n",
    "numpy.arange([start, ]stop, [step, ]dtype=None, *, like=None)\n",
    "```\n",
    "Возвращает равномерно распределенные значения в пределах заданного интервала.\n",
    "\n",
    "`arange` можно вызывать с различным количеством позиционных аргументов:\n",
    "\n",
    "* `arange(stop)`: значения генерируются в пределах полуоткрытого интервала [0, stop) (другими словами, интервал, включающий начало, но исключающий конец).\n",
    "\n",
    "* `arange(start, stop)`: значения генерируются в пределах полуоткрытого интервала [start, stop).\n",
    "\n",
    "* `arange(start, stop, step)` Значения генерируются в пределах полуоткрытого интервала [start, stop), с интервалом между значениями, заданным шагом.\n",
    "\n",
    "Для целочисленных аргументов функция примерно эквивалентна встроенной питоновской `range`, но возвращает ndarray, а не экземпляр диапазона.\n",
    "\n",
    "При использовании нецелого шага, например 0.1, часто лучше использовать `numpy.linspace`."
   ]
  },
  {
   "cell_type": "markdown",
   "id": "aa89150b",
   "metadata": {},
   "source": [
    "#### Функции создания 1D массивов `numpy.linspace`\n",
    "\n",
    "numpy.linspace создаст массивы с заданным количеством элементов и с равными интервалами между указанными начальным и конечным значениями. Например:"
   ]
  },
  {
   "cell_type": "code",
   "execution_count": 13,
   "id": "dd34b00a",
   "metadata": {},
   "outputs": [
    {
     "data": {
      "text/plain": [
       "array([1. , 1.6, 2.2, 2.8, 3.4, 4. ])"
      ]
     },
     "execution_count": 13,
     "metadata": {},
     "output_type": "execute_result"
    }
   ],
   "source": [
    "np.linspace(1., 4., 6)"
   ]
  },
  {
   "cell_type": "markdown",
   "id": "aca8e499",
   "metadata": {},
   "source": [
    "Преимущество этой функции создания заключается в том, что вы гарантируете количество элементов, а также начальную и конечную точки. Функция `arange(start, stop, step)` не будет включать значение остановки."
   ]
  },
  {
   "cell_type": "markdown",
   "id": "c98723b7",
   "metadata": {},
   "source": [
    "Полный синтаксис:\n",
    "\n",
    "```python\n",
    "numpy.linspace(start, stop, num=50, endpoint=True, retstep=False, dtype=None, axis=0)\n",
    "\n",
    "```\n",
    "Возвращает равномерно распределенные числа в указанном интервале.\n",
    "\n",
    "Возвращает число равноотстоящих выборок, рассчитанных по интервалу `[start, stop]`.\n",
    "\n",
    "Конечная точка интервала `endpoint` может быть дополнительно исключена.\n",
    "\n",
    "**Входные параметры**:\n",
    "\n",
    "* `start` (array_like) - Начальное значение последовательности.\n",
    "\n",
    "* `stop` (array_like) -  Конечное значение последовательности, если для конечной точки не задано значение False. В этом случае последовательность состоит из всех, кроме последнего из `num + 1` равноотстоящих выборок, так что остановка исключается. Обратите внимание, что размер шага изменяется, когда конечная точка имеет значение False.\n",
    "\n",
    "* `num` (`int`, необязательный) - Количество образцов для генерации. По умолчанию 50. Должно быть неотрицательным.\n",
    "\n",
    "* `endpoint` (`bool`, необязательный) - Если `True`, `stop` - это последняя выборка. В противном случае он не включается. Значение по умолчанию — `True`.\n",
    "\n",
    "* `retstep` (`bool`, необязательный) - Если `True`, вернуть (samples, step).\n",
    "\n",
    "* `dtyped` (type, необязательный) - Тип выходного массива. Если `dtype` не указан, тип данных выводится из начала и конца. Выведенный `dtype` никогда не будет целым числом; float выбирается, даже если аргументы будут создавать массив целых чисел.\n",
    "\n",
    "Новое в версии 1.9.0.\n",
    "\n",
    "`axis` (`int`, необязательный) - Ось в результате для хранения образцов. Имеет значение только в том случае, если start или stop являются массивоподобными. По умолчанию (0) образцы будут располагаться вдоль новой оси, вставленной в начале. Используйте -1, чтобы получить ось в конце.\n",
    "\n",
    "**Возвращает**:\n",
    "\n",
    "* `samples` (ndarray) - В закрытом интервале [staet, stop] или на полуоткрытом интервале [start, stop) (в зависимости от того, является ли конечная точка истинной или ложной) имеется число равноотстоящих отсчетов.\n",
    "\n",
    "* `step` (float, optional) - Возвращается, только если `retstep` имеет значение `True`. Размер интервала между образцами."
   ]
  },
  {
   "cell_type": "code",
   "execution_count": 14,
   "id": "d60e7c47",
   "metadata": {},
   "outputs": [
    {
     "data": {
      "text/plain": [
       "array([2.  , 2.25, 2.5 , 2.75, 3.  ])"
      ]
     },
     "execution_count": 14,
     "metadata": {},
     "output_type": "execute_result"
    }
   ],
   "source": [
    "np.linspace(2.0, 3.0, num=5)"
   ]
  },
  {
   "cell_type": "code",
   "execution_count": 15,
   "id": "32057a18",
   "metadata": {},
   "outputs": [
    {
     "data": {
      "text/plain": [
       "array([2. , 2.2, 2.4, 2.6, 2.8])"
      ]
     },
     "execution_count": 15,
     "metadata": {},
     "output_type": "execute_result"
    }
   ],
   "source": [
    "np.linspace(2.0, 3.0, num=5, endpoint=False)"
   ]
  },
  {
   "cell_type": "code",
   "execution_count": 16,
   "id": "44e1e537",
   "metadata": {},
   "outputs": [
    {
     "data": {
      "text/plain": [
       "(array([2.  , 2.25, 2.5 , 2.75, 3.  ]), 0.25)"
      ]
     },
     "execution_count": 16,
     "metadata": {},
     "output_type": "execute_result"
    }
   ],
   "source": [
    "np.linspace(2.0, 3.0, num=5, retstep=True)"
   ]
  },
  {
   "cell_type": "code",
   "execution_count": 17,
   "id": "2ccac2e1",
   "metadata": {},
   "outputs": [
    {
     "data": {
      "image/png": "[encoded data removed]",
      "text/plain": [
       "<Figure size 432x288 with 1 Axes>"
      ]
     },
     "metadata": {
      "needs_background": "light"
     },
     "output_type": "display_data"
    }
   ],
   "source": [
    "import matplotlib.pyplot as plt\n",
    "N = 8\n",
    "y = np.zeros(N)\n",
    "x1 = np.linspace(0, 10, N, endpoint=True)\n",
    "x2 = np.linspace(0, 10, N, endpoint=False)\n",
    "plt.plot(x1, y, 'o')\n",
    "plt.plot(x2, y + 0.5, 'o')\n",
    "plt.ylim([-0.5, 1])\n",
    "plt.show()"
   ]
  },
  {
   "cell_type": "markdown",
   "id": "37af12b6",
   "metadata": {},
   "source": [
    "**Смотри также**\n",
    "\n",
    "* `arange` - Аналогичен `linspace`, но использует размер шага (вместо количества выборок).\n",
    "\n",
    "* `geomspace` -Аналогичен `linspace`, но с равномерно распределенными числами по логарифмической шкале (геометрическая прогрессия).\n",
    "\n",
    "* `logspace` - Подобно `geomspace`, но с конечными точками, указанными как логарифмы.\n"
   ]
  },
  {
   "cell_type": "markdown",
   "id": "f5f137a6",
   "metadata": {},
   "source": [
    "#### Функции создания 1D массивов `numpy.geomspace` и `numpy.logspace`"
   ]
  },
  {
   "cell_type": "code",
   "execution_count": 18,
   "id": "f1f0fa6a",
   "metadata": {},
   "outputs": [
    {
     "data": {
      "text/plain": [
       "array([ 2.,  4.,  8., 16., 32., 64.])"
      ]
     },
     "execution_count": 18,
     "metadata": {},
     "output_type": "execute_result"
    }
   ],
   "source": [
    "np.geomspace(2, 64, 6)"
   ]
  },
  {
   "cell_type": "code",
   "execution_count": 19,
   "id": "718d985b",
   "metadata": {},
   "outputs": [
    {
     "data": {
      "text/plain": [
       "array([  10.,  100., 1000.])"
      ]
     },
     "execution_count": 19,
     "metadata": {},
     "output_type": "execute_result"
    }
   ],
   "source": [
    "np.logspace(1, 3, 3)"
   ]
  },
  {
   "cell_type": "code",
   "execution_count": null,
   "id": "99c81fb0",
   "metadata": {},
   "outputs": [],
   "source": []
  },
  {
   "cell_type": "markdown",
   "id": "3560514d",
   "metadata": {},
   "source": [
    "### Функции создания 2D массивов `numpy.eye`, `numpy.diag` и `numpy.vander`\n",
    "\n",
    "Функции создания 2D-массива, например, `numpy.eye`, `numpy.diag` и `numpy.vander` определяют свойства специальных матриц, представленных в виде двумерных массивов."
   ]
  },
  {
   "cell_type": "markdown",
   "id": "a9d5e123",
   "metadata": {},
   "source": [
    "#### Функции создания 2D массивов `numpy.eye`\n",
    "\n",
    "`np.eye(n, m)` определяет двумерную единичную матрицу. Элементы, где i=j (индекс строки и индекс столбца равны), равны `1`, а остальные равны `0`, как таковые:"
   ]
  },
  {
   "cell_type": "code",
   "execution_count": 20,
   "id": "c7ec31b8",
   "metadata": {},
   "outputs": [
    {
     "data": {
      "text/plain": [
       "array([[1., 0., 0.],\n",
       "       [0., 1., 0.],\n",
       "       [0., 0., 1.]])"
      ]
     },
     "execution_count": 20,
     "metadata": {},
     "output_type": "execute_result"
    }
   ],
   "source": [
    "np.eye(3)"
   ]
  },
  {
   "cell_type": "code",
   "execution_count": 21,
   "id": "67c9c004",
   "metadata": {},
   "outputs": [
    {
     "data": {
      "text/plain": [
       "array([[1., 0., 0., 0., 0.],\n",
       "       [0., 1., 0., 0., 0.],\n",
       "       [0., 0., 1., 0., 0.]])"
      ]
     },
     "execution_count": 21,
     "metadata": {},
     "output_type": "execute_result"
    }
   ],
   "source": [
    "np.eye(3, 5)"
   ]
  },
  {
   "cell_type": "markdown",
   "id": "9b363485",
   "metadata": {},
   "source": [
    "#### Функции создания 2D массивов `numpy.diag`\n",
    "\n",
    "`numpy.diag` может определить либо квадратный 2D-массив с заданными значениями по диагонали, либо, если задан 2D-массив, возвращает 1D-массив, состоящий только из диагональных элементов. Две функции создания массива могут быть полезны при выполнении операций линейной алгебры как таковой:"
   ]
  },
  {
   "cell_type": "code",
   "execution_count": 22,
   "id": "216daab6",
   "metadata": {},
   "outputs": [
    {
     "data": {
      "text/plain": [
       "array([[1, 0, 0],\n",
       "       [0, 2, 0],\n",
       "       [0, 0, 3]])"
      ]
     },
     "execution_count": 22,
     "metadata": {},
     "output_type": "execute_result"
    }
   ],
   "source": [
    "np.diag([1, 2, 3])"
   ]
  },
  {
   "cell_type": "code",
   "execution_count": 23,
   "id": "8c8dd802",
   "metadata": {},
   "outputs": [
    {
     "data": {
      "text/plain": [
       "array([[0, 1, 0, 0],\n",
       "       [0, 0, 2, 0],\n",
       "       [0, 0, 0, 3],\n",
       "       [0, 0, 0, 0]])"
      ]
     },
     "execution_count": 23,
     "metadata": {},
     "output_type": "execute_result"
    }
   ],
   "source": [
    "np.diag([1, 2, 3], 1)"
   ]
  },
  {
   "cell_type": "code",
   "execution_count": 24,
   "id": "a6f3c1ca",
   "metadata": {},
   "outputs": [
    {
     "data": {
      "text/plain": [
       "array([1, 4])"
      ]
     },
     "execution_count": 24,
     "metadata": {},
     "output_type": "execute_result"
    }
   ],
   "source": [
    "a = np.array([[1, 2], [3, 4]])\n",
    "np.diag(a)"
   ]
  },
  {
   "cell_type": "markdown",
   "id": "60d8b138",
   "metadata": {},
   "source": [
    "`numpy.diagflat` формирует диагональную матрицу из списка list, который сначала сжимает до одной оси (преобразует в одномерный список или массив)."
   ]
  },
  {
   "cell_type": "code",
   "execution_count": 25,
   "id": "e37a9ccf",
   "metadata": {},
   "outputs": [
    {
     "data": {
      "text/plain": [
       "array([[1, 0, 0, 0],\n",
       "       [0, 2, 0, 0],\n",
       "       [0, 0, 3, 0],\n",
       "       [0, 0, 0, 4]])"
      ]
     },
     "execution_count": 25,
     "metadata": {},
     "output_type": "execute_result"
    }
   ],
   "source": [
    "np.diagflat([[1,2], [3,4]])"
   ]
  },
  {
   "cell_type": "code",
   "execution_count": 26,
   "id": "b694e571",
   "metadata": {},
   "outputs": [
    {
     "data": {
      "text/plain": [
       "array([[0, 1, 0],\n",
       "       [0, 0, 2],\n",
       "       [0, 0, 0]])"
      ]
     },
     "execution_count": 26,
     "metadata": {},
     "output_type": "execute_result"
    }
   ],
   "source": [
    "np.diagflat([1,2], 1)"
   ]
  },
  {
   "cell_type": "markdown",
   "id": "7d9b7cb6",
   "metadata": {},
   "source": [
    "### Общие функции создания ndarray\n",
    "\n",
    "Функции создания ndarray, напримерб `numpy.ones`, `numpy.zeros` и `random` определяют массивы на основе желаемой формы. Функции создания ndarray могут создавать массивы с любым измерением, указывая количество измерений и длину по этому измерению в кортеже или списке."
   ]
  },
  {
   "cell_type": "markdown",
   "id": "7ea0eeb4",
   "metadata": {},
   "source": [
    "#### Функция `numpy.zeros` \n",
    "\n",
    "создаст массив, заполненный 0 значениями указанной формы. Тип dtype по умолчанию — float64:"
   ]
  },
  {
   "cell_type": "code",
   "execution_count": 27,
   "id": "22c5e311",
   "metadata": {},
   "outputs": [
    {
     "data": {
      "text/plain": [
       "array([0., 0., 0., 0., 0.])"
      ]
     },
     "execution_count": 27,
     "metadata": {},
     "output_type": "execute_result"
    }
   ],
   "source": [
    "np.zeros(5)"
   ]
  },
  {
   "cell_type": "code",
   "execution_count": 28,
   "id": "0536c871",
   "metadata": {},
   "outputs": [
    {
     "data": {
      "text/plain": [
       "array([0, 0, 0, 0, 0])"
      ]
     },
     "execution_count": 28,
     "metadata": {},
     "output_type": "execute_result"
    }
   ],
   "source": [
    "np.zeros((5,), dtype='int')"
   ]
  },
  {
   "cell_type": "code",
   "execution_count": 29,
   "id": "e77a9208",
   "metadata": {},
   "outputs": [
    {
     "data": {
      "text/plain": [
       "array([[0., 0., 0.],\n",
       "       [0., 0., 0.]])"
      ]
     },
     "execution_count": 29,
     "metadata": {},
     "output_type": "execute_result"
    }
   ],
   "source": [
    "np.zeros((2, 3))"
   ]
  },
  {
   "cell_type": "code",
   "execution_count": 30,
   "id": "8c8d2c23",
   "metadata": {
    "scrolled": true
   },
   "outputs": [
    {
     "data": {
      "text/plain": [
       "array([[[0., 0.],\n",
       "        [0., 0.],\n",
       "        [0., 0.]],\n",
       "\n",
       "       [[0., 0.],\n",
       "        [0., 0.],\n",
       "        [0., 0.]]])"
      ]
     },
     "execution_count": 30,
     "metadata": {},
     "output_type": "execute_result"
    }
   ],
   "source": [
    "np.zeros((2, 3, 2))"
   ]
  },
  {
   "cell_type": "markdown",
   "id": "429c5ebb",
   "metadata": {},
   "source": [
    "#### Функция `numpy.ones`\n",
    "`numpy.ones` создаст массив, заполненный 1 значениями. Он идентичен `zeros` во всех других отношениях как таковой:"
   ]
  },
  {
   "cell_type": "code",
   "execution_count": 31,
   "id": "6680f2da",
   "metadata": {},
   "outputs": [
    {
     "data": {
      "text/plain": [
       "array([1., 1., 1.])"
      ]
     },
     "execution_count": 31,
     "metadata": {},
     "output_type": "execute_result"
    }
   ],
   "source": [
    "np.ones((3))"
   ]
  },
  {
   "cell_type": "code",
   "execution_count": 32,
   "id": "050460d7",
   "metadata": {},
   "outputs": [
    {
     "data": {
      "text/plain": [
       "array([[1., 1., 1.],\n",
       "       [1., 1., 1.]])"
      ]
     },
     "execution_count": 32,
     "metadata": {},
     "output_type": "execute_result"
    }
   ],
   "source": [
    "np.ones((2, 3))"
   ]
  },
  {
   "cell_type": "markdown",
   "id": "f6dba52e",
   "metadata": {},
   "source": [
    "#### Функция `numpy.full`\n",
    "\n",
    "Возвращает новый массив заданной формы и типа, заполненный fill_value."
   ]
  },
  {
   "cell_type": "code",
   "execution_count": 33,
   "id": "2be2a14a",
   "metadata": {},
   "outputs": [
    {
     "data": {
      "text/plain": [
       "array([[inf, inf],\n",
       "       [inf, inf]])"
      ]
     },
     "execution_count": 33,
     "metadata": {},
     "output_type": "execute_result"
    }
   ],
   "source": [
    "np.full((2, 2), np.inf)"
   ]
  },
  {
   "cell_type": "code",
   "execution_count": 34,
   "id": "20f9484f",
   "metadata": {},
   "outputs": [
    {
     "data": {
      "text/plain": [
       "array([[1, 2],\n",
       "       [1, 2]])"
      ]
     },
     "execution_count": 34,
     "metadata": {},
     "output_type": "execute_result"
    }
   ],
   "source": [
    "np.full((2, 2), [1, 2])"
   ]
  },
  {
   "cell_type": "markdown",
   "id": "0d5f6dcd",
   "metadata": {},
   "source": [
    "#### Функция `numpy.empty`\n",
    "Возвращает новый массив заданной формы и типа без инициализации записей.\n",
    "\n",
    "`empty`, в отличие от `zeros`, не устанавливает значения массива в ноль и поэтому может быть немного быстрее. С другой стороны, он требует, чтобы пользователь вручную установил все значения в массиве, и его следует использовать с осторожностью."
   ]
  },
  {
   "cell_type": "code",
   "execution_count": 35,
   "id": "230b6b4a",
   "metadata": {},
   "outputs": [
    {
     "data": {
      "text/plain": [
       "array([[inf, inf],\n",
       "       [inf, inf]])"
      ]
     },
     "execution_count": 35,
     "metadata": {},
     "output_type": "execute_result"
    }
   ],
   "source": [
    "np.empty([2, 2])"
   ]
  },
  {
   "cell_type": "code",
   "execution_count": 36,
   "id": "b4fa4a6a",
   "metadata": {},
   "outputs": [
    {
     "data": {
      "text/plain": [
       "array([[0, 0],\n",
       "       [1, 0]])"
      ]
     },
     "execution_count": 36,
     "metadata": {},
     "output_type": "execute_result"
    }
   ],
   "source": [
    "np.empty([2, 2], dtype='int')"
   ]
  },
  {
   "cell_type": "markdown",
   "id": "04105bb2",
   "metadata": {},
   "source": [
    "#### Функции `numpy.zeros_like`, `ones_like`, `empty_like`, `full_like`\n",
    "\n",
    "Возвращает массив нулей (единиц или других значений в зависимости от функции) той же формы и типа, что и заданный массив."
   ]
  },
  {
   "cell_type": "code",
   "execution_count": 37,
   "id": "880f25d0",
   "metadata": {},
   "outputs": [
    {
     "data": {
      "text/plain": [
       "array([[0, 1, 2],\n",
       "       [3, 4, 5]])"
      ]
     },
     "execution_count": 37,
     "metadata": {},
     "output_type": "execute_result"
    }
   ],
   "source": [
    "x = np.arange(6)\n",
    "x = x.reshape((2, 3))\n",
    "x\n"
   ]
  },
  {
   "cell_type": "code",
   "execution_count": 38,
   "id": "c66e17f1",
   "metadata": {},
   "outputs": [
    {
     "data": {
      "text/plain": [
       "array([[0, 0, 0],\n",
       "       [0, 0, 0]])"
      ]
     },
     "execution_count": 38,
     "metadata": {},
     "output_type": "execute_result"
    }
   ],
   "source": [
    "np.zeros_like(x)"
   ]
  },
  {
   "cell_type": "markdown",
   "id": "6d6a7dd1",
   "metadata": {},
   "source": [
    "#### Функции `numpy.random`\n",
    "\n",
    "Метод `default_rng` из `numpy.random` создаст массив, заполненный случайными значениями от 0 до 1. Он включен в библиотеку `numpy.random`. Ниже созданы два массива с формами (2,3) и (2,3,2) соответственно. Начальное значение seed равно 42, поэтому вы можете воспроизвести эти псевдослучайные числа:"
   ]
  },
  {
   "cell_type": "code",
   "execution_count": 39,
   "id": "de630eb7",
   "metadata": {},
   "outputs": [
    {
     "data": {
      "text/plain": [
       "array([[0.77395605, 0.43887844, 0.85859792],\n",
       "       [0.69736803, 0.09417735, 0.97562235]])"
      ]
     },
     "execution_count": 39,
     "metadata": {},
     "output_type": "execute_result"
    }
   ],
   "source": [
    "from numpy.random import default_rng\n",
    "default_rng(42).random((2,3))"
   ]
  },
  {
   "cell_type": "code",
   "execution_count": 40,
   "id": "56bbb783",
   "metadata": {},
   "outputs": [
    {
     "data": {
      "text/plain": [
       "array([[[0.77395605, 0.43887844],\n",
       "        [0.85859792, 0.69736803],\n",
       "        [0.09417735, 0.97562235]],\n",
       "\n",
       "       [[0.7611397 , 0.78606431],\n",
       "        [0.12811363, 0.45038594],\n",
       "        [0.37079802, 0.92676499]]])"
      ]
     },
     "execution_count": 40,
     "metadata": {},
     "output_type": "execute_result"
    }
   ],
   "source": [
    "default_rng(42).random((2,3,2))"
   ]
  },
  {
   "cell_type": "markdown",
   "id": "7db10773",
   "metadata": {},
   "source": [
    "Для генерации в диапозоне `[a, b)`"
   ]
  },
  {
   "cell_type": "code",
   "execution_count": 41,
   "id": "af0e617e",
   "metadata": {},
   "outputs": [
    {
     "data": {
      "text/plain": [
       "array([[4.95900429, 3.93445262],\n",
       "       [3.74070712, 4.21303507],\n",
       "       [4.13306683, 4.90621745]])"
      ]
     },
     "execution_count": 41,
     "metadata": {},
     "output_type": "execute_result"
    }
   ],
   "source": [
    "a = 3\n",
    "b = 5\n",
    "\n",
    "rng = np.random.default_rng()\n",
    "(b - a) * rng.random((3, 2)) + a"
   ]
  },
  {
   "cell_type": "code",
   "execution_count": 42,
   "id": "7e0f344a",
   "metadata": {},
   "outputs": [
    {
     "data": {
      "text/plain": [
       "array([[-3.2682299 , -3.05285885],\n",
       "       [-2.48900236, -4.29258684],\n",
       "       [-4.16850948, -2.53580217]])"
      ]
     },
     "execution_count": 42,
     "metadata": {},
     "output_type": "execute_result"
    }
   ],
   "source": [
    "# [-5; 0)\n",
    "rng = np.random.default_rng()\n",
    "5 * rng.random((3, 2)) - 5"
   ]
  },
  {
   "cell_type": "markdown",
   "id": "11c36ed9",
   "metadata": {},
   "source": [
    "#### Функция `numpy.iniform`\n",
    "\n",
    "Образцы равномерно распределены по полуоткрытому интервалу [high, low) (включает низкие, но исключает высокие). Другими словами, любое значение в заданном интервале с равной вероятностью будет отрисовано юниформом.\n",
    "\n",
    "Функция плотности вероятности равномерного распределения\n",
    "$$P(x) = \\frac{1}{b-a}$$\n",
    "\n",
    "в пределах интервала [a, b), и ноль в другом месте.\n",
    "\n",
    "Когда `high == low`, будут возвращены значения low."
   ]
  },
  {
   "cell_type": "code",
   "execution_count": 43,
   "id": "7cdf9826",
   "metadata": {},
   "outputs": [],
   "source": [
    "s = np.random.default_rng().uniform(-1,0,1000)"
   ]
  },
  {
   "cell_type": "code",
   "execution_count": 44,
   "id": "fbd0a475",
   "metadata": {},
   "outputs": [
    {
     "data": {
      "text/plain": [
       "True"
      ]
     },
     "execution_count": 44,
     "metadata": {},
     "output_type": "execute_result"
    }
   ],
   "source": [
    "np.all(s >= -1)"
   ]
  },
  {
   "cell_type": "code",
   "execution_count": 45,
   "id": "938a622a",
   "metadata": {},
   "outputs": [
    {
     "data": {
      "text/plain": [
       "True"
      ]
     },
     "execution_count": 45,
     "metadata": {},
     "output_type": "execute_result"
    }
   ],
   "source": [
    "np.all(s < 0)"
   ]
  },
  {
   "cell_type": "code",
   "execution_count": 46,
   "id": "123c65d6",
   "metadata": {},
   "outputs": [
    {
     "data": {
      "image/png": "[encoded data removed]",
      "text/plain": [
       "<Figure size 432x288 with 1 Axes>"
      ]
     },
     "metadata": {
      "needs_background": "light"
     },
     "output_type": "display_data"
    }
   ],
   "source": [
    "import matplotlib.pyplot as plt\n",
    "count, bins, ignored = plt.hist(s, 15, density=True)\n",
    "plt.plot(bins, np.ones_like(bins), linewidth=2, color='r')\n",
    "plt.show()"
   ]
  },
  {
   "cell_type": "markdown",
   "id": "cef9acab",
   "metadata": {},
   "source": [
    "#### Функция `numpy.indices`\n",
    "`numpy.indices` создаст набор массивов (сложенных в виде массива с одним более высоким размером), по одному на измерение, каждое из которых представляет изменение в этом измерении:"
   ]
  },
  {
   "cell_type": "code",
   "execution_count": 47,
   "id": "0fa810e2",
   "metadata": {},
   "outputs": [
    {
     "data": {
      "text/plain": [
       "array([[[0, 0, 0],\n",
       "        [1, 1, 1],\n",
       "        [2, 2, 2]],\n",
       "\n",
       "       [[0, 1, 2],\n",
       "        [0, 1, 2],\n",
       "        [0, 1, 2]]])"
      ]
     },
     "execution_count": 47,
     "metadata": {},
     "output_type": "execute_result"
    }
   ],
   "source": [
    "np.indices((3,3))"
   ]
  },
  {
   "cell_type": "code",
   "execution_count": null,
   "id": "53b3a673",
   "metadata": {},
   "outputs": [],
   "source": []
  },
  {
   "cell_type": "code",
   "execution_count": null,
   "id": "d756b656",
   "metadata": {},
   "outputs": [],
   "source": []
  },
  {
   "cell_type": "code",
   "execution_count": null,
   "id": "a1ec6fb6",
   "metadata": {},
   "outputs": [],
   "source": []
  }
 ],
 "metadata": {
  "kernelspec": {
   "display_name": "Python 3",
   "language": "python",
   "name": "python3"
  },
  "language_info": {
   "codemirror_mode": {
    "name": "ipython",
    "version": 3
   },
   "file_extension": ".py",
   "mimetype": "text/x-python",
   "name": "python",
   "nbconvert_exporter": "python",
   "pygments_lexer": "ipython3",
   "version": "3.8.11"
  }
 },
 "nbformat": 4,
 "nbformat_minor": 5
}
