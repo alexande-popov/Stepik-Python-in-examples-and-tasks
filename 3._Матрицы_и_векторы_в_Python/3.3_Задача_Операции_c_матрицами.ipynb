{
 "cells": [
  {
   "cell_type": "markdown",
   "id": "4708adea",
   "metadata": {},
   "source": [
    "# 3.3 Задача. Операции c матрицами"
   ]
  },
  {
   "cell_type": "markdown",
   "id": "31bd9b35",
   "metadata": {},
   "source": [
    "## Создание двумерного массива\n",
    "\n",
    "В NumPy существует много способов создать массив. Проще всего создать массив из списка, каждый элемент которого представляет собой новый список. Для этого используется функция array(). На основе списка будет создан массив, количество строк которого будет равно количеству вложенных списков, количество столбцов – количеству элементов в каждом."
   ]
  },
  {
   "cell_type": "code",
   "execution_count": 1,
   "id": "02d0afd6",
   "metadata": {},
   "outputs": [
    {
     "data": {
      "text/plain": [
       "array([[ 3,  4, -2],\n",
       "       [-2, -1,  4],\n",
       "       [ 1,  2,  1]])"
      ]
     },
     "execution_count": 1,
     "metadata": {},
     "output_type": "execute_result"
    }
   ],
   "source": [
    "import numpy as np\n",
    "\n",
    "a = np.array([[3, 4, -2], [-2, -1, 4], [1, 2, 1]])\n",
    "a"
   ]
  },
  {
   "cell_type": "markdown",
   "id": "b112541e",
   "metadata": {},
   "source": [
    "При создании двумерного массива  можно переопределить тип его элементов."
   ]
  },
  {
   "cell_type": "code",
   "execution_count": 2,
   "id": "344a60f7",
   "metadata": {
    "scrolled": true
   },
   "outputs": [
    {
     "data": {
      "text/plain": [
       "array([[ 3,  4, -2],\n",
       "       [-2, -1,  4],\n",
       "       [ 1,  2,  1]])"
      ]
     },
     "execution_count": 2,
     "metadata": {},
     "output_type": "execute_result"
    }
   ],
   "source": [
    "a = np.array([['3', '4', '-2'], ['-2', '-1', '4'], ['1', '2', '1']], dtype=int)\n",
    "a"
   ]
  },
  {
   "cell_type": "markdown",
   "id": "903164d0",
   "metadata": {},
   "source": [
    "Другой способ - создать на основе данных, введенных пользователем с клавиатуры.\n",
    "```python\n",
    "array_list = [ ]\n",
    "\n",
    "for i in range(3):\n",
    "    line = input(\"Введите строку чисел через пробел: \")\n",
    "    array_str = line.split()\n",
    "    array_list.append(array_str)\n",
    "\n",
    "a = np.array(array_list, dtype=int)\n",
    "```"
   ]
  },
  {
   "cell_type": "markdown",
   "id": "d15b44bc",
   "metadata": {},
   "source": [
    "## Обращение к элементам массива"
   ]
  },
  {
   "cell_type": "code",
   "execution_count": 3,
   "id": "eceb09d3",
   "metadata": {},
   "outputs": [
    {
     "name": "stdout",
     "output_type": "stream",
     "text": [
      "a:\n",
      " [[ 3  4 -2]\n",
      " [-2 -1  4]\n",
      " [ 1  2  1]]\n",
      "\n",
      "a[0, 0]: 3\n",
      "a[1, 2]: 4\n",
      "a[2, 1]: 2\n"
     ]
    }
   ],
   "source": [
    "print('a:\\n', a)\n",
    "print()\n",
    "print('a[0, 0]:', a[0, 0])\n",
    "print('a[1, 2]:', a[1, 2])\n",
    "print('a[2, 1]:', a[2, 1])"
   ]
  },
  {
   "cell_type": "markdown",
   "id": "e99e0362",
   "metadata": {},
   "source": [
    "### Срезы\n",
    "\n",
    "Последние значения не включаются.\n",
    "\n",
    "Срез -- как новый массив."
   ]
  },
  {
   "cell_type": "code",
   "execution_count": 4,
   "id": "a0e13496",
   "metadata": {},
   "outputs": [
    {
     "name": "stdout",
     "output_type": "stream",
     "text": [
      "a:\n",
      " [[ 3  4 -2]\n",
      " [-2 -1  4]\n",
      " [ 1  2  1]]\n",
      "\n",
      "a[2]:\n",
      " [1 2 1]\n",
      "\n",
      "a[:,1]:\n",
      " [ 4 -1  2]\n",
      "\n",
      "a[:2]:\n",
      " [[ 3  4 -2]\n",
      " [-2 -1  4]]\n",
      "\n",
      "a[1:3]:\n",
      " [[-2 -1  4]\n",
      " [ 1  2  1]]\n",
      "\n",
      "a[:,:2]:\n",
      " [[ 3  4]\n",
      " [-2 -1]\n",
      " [ 1  2]]\n",
      "\n",
      "a[:,1:3]:\n",
      " [[ 4 -2]\n",
      " [-1  4]\n",
      " [ 2  1]]\n",
      "\n",
      "\n",
      "a[0:2, 1:3]:\n",
      " [[ 4 -2]\n",
      " [-1  4]]\n",
      "\n",
      "id(a)=101281680, id(a[:,:])=101376720\n"
     ]
    }
   ],
   "source": [
    "print('a:\\n', a)\n",
    "print()\n",
    "print('a[2]:\\n', a[2])\n",
    "print()\n",
    "print('a[:,1]:\\n', a[:,1])\n",
    "print()\n",
    "print('a[:2]:\\n', a[:2])\n",
    "print()\n",
    "print('a[1:3]:\\n', a[1:3])\n",
    "print()\n",
    "print('a[:,:2]:\\n', a[:,:2])\n",
    "print()\n",
    "print('a[:,1:3]:\\n', a[:,1:3])\n",
    "print()\n",
    "print('', )\n",
    "print('a[0:2, 1:3]:\\n', a[0:2, 1:3])\n",
    "print('', )\n",
    "print(f'id(a)={id(a)}, id(a[:,:])={id(a[:,:])}')"
   ]
  },
  {
   "cell_type": "markdown",
   "id": "c039dff7",
   "metadata": {},
   "source": [
    "## Функции срезов\n",
    "\n",
    "Тут обычно второй аргумент указывает ось, вдоль которой работает функция: `0` – стлобцы, `1` – строки.\n",
    "\n",
    "* `np.max(a,0)` – Находит максимальные элементы в каждом столбце матрицы **a**, результат – вектор, размерность которого равна количеству столбцов матрицы.\n",
    "* `np.max(a,1)` – Находит максимальные элементы в каждой строке матрицы **a**, результат – вектор, размерность которого равна количеству строк матрицы.\n",
    "* `np.min(a,0)` – Находит минимальные элементы в каждом столбце матрицы **a**, результат – вектор, размерность которого равна количеству столбцов матрицы.\n",
    "* `np.min(a,1)` – Находит минимальные  элементы в каждой строке матрицы **a**, результат – вектор, размерность которого равна количеству строк матрицы.\n",
    "* `np.mean(a,0)` – Находит среднее значение каждого столбца матрицы **a**, результат – вектор, размерность которого равна количеству столбцов матрицы.\n",
    "* `np.mean(a,1)` – Находит среднее значение каждой строки матрицы **a**, результат – вектор, размерность которого равна количеству строк матрицы.\n",
    "* `np.sum(a,0)` – Находит сумму каждого столбца матрицы **a**, результат – вектор, размерность которого равна количеству столбцов матрицы.\n",
    "* `np.sum(a,1)` – Находит сумму каждой строки матрицы **a**, результат – вектор, размерность которого равна количеству строк матрицы.\n",
    "* `np.prod(a,0)` –\tНаходит произведение каждого столбца матрицы **a**, результат – вектор, размерность которого равна количеству столбцов матрицы.\n",
    "* `np.prod(a,1)` –\tНаходит произведение каждой строки матрицы **a**, результат – вектор, размерность которого равна количеству строк матрицы.\n",
    "* `np.diag(a)` – Находит диагональные элементы квадратной матрицы, результат – вектор, размерностью равной количеству строк (или столбцов) матрицы **a**.\n",
    "* `np.triu(a,i)` – Выделяет треугольную матрицу из матрицы **a**, **i** – целое число, которое означает «сдвиг» стороны (гипотенузы) треугольника относительно главной диагонали, результат – матрица, равна по размеру матрице **a**, элементы, не относящиеся к «треугольнику», заполняются нулями."
   ]
  },
  {
   "cell_type": "code",
   "execution_count": 5,
   "id": "07b6a9a1",
   "metadata": {},
   "outputs": [
    {
     "name": "stdout",
     "output_type": "stream",
     "text": [
      "[[0 1 2]\n",
      " [3 4 5]\n",
      " [6 7 8]]\n",
      "\n",
      "[ 9 12 15]\n",
      "\n",
      "[ 3 12 21]\n"
     ]
    }
   ],
   "source": [
    "a = np.array(np.arange(9))\n",
    "a = a.reshape(3, 3)\n",
    "\n",
    "print(a)\n",
    "print()\n",
    "print(np.sum(a, 0))\n",
    "print()\n",
    "print(np.sum(a, 1))"
   ]
  },
  {
   "cell_type": "markdown",
   "id": "6e50b06a",
   "metadata": {},
   "source": [
    "## Матричные операции\n",
    "\n",
    "В модуле линейной алгебры"
   ]
  },
  {
   "cell_type": "code",
   "execution_count": 6,
   "id": "c7f85bad",
   "metadata": {},
   "outputs": [],
   "source": [
    "import numpy.linalg as alg"
   ]
  },
  {
   "cell_type": "code",
   "execution_count": null,
   "id": "94d2a6d8",
   "metadata": {},
   "outputs": [],
   "source": []
  },
  {
   "cell_type": "markdown",
   "id": "0558b099",
   "metadata": {},
   "source": [
    "## Step 5\n",
    "\n",
    "Выберите верные операторы.\n",
    "\n",
    "\n",
    "* d = np.dot(c, b)\n",
    "* det_array = alg.det(c)\n",
    "* d = 5 * a\n",
    "* d = alg.inv(c)\n",
    "* d = 12 - b\n",
    "* d = np.dot(c, c)"
   ]
  },
  {
   "cell_type": "code",
   "execution_count": 7,
   "id": "0ca62962",
   "metadata": {},
   "outputs": [],
   "source": [
    "import numpy as np\n",
    "import numpy.linalg as alg\n",
    "\n",
    "a = np.array([[3, 4, -2], [-2, -1, 4]])\n",
    "\n",
    "b = np.array([[1, -3, -2, 1], [2, 4, -2, -1], [5, -2, 0, -2]])\n",
    "\n",
    "c = np.array([[-1, 0, 2], [2, -2, 3], [0, 5, 1]])"
   ]
  },
  {
   "cell_type": "code",
   "execution_count": 8,
   "id": "41e1e427",
   "metadata": {},
   "outputs": [
    {
     "name": "stdout",
     "output_type": "stream",
     "text": [
      "a:\n",
      "[[ 3  4 -2]\n",
      " [-2 -1  4]]\n",
      "b:\n",
      "[[ 1 -3 -2  1]\n",
      " [ 2  4 -2 -1]\n",
      " [ 5 -2  0 -2]]\n",
      "c:\n",
      "[[-1  0  2]\n",
      " [ 2 -2  3]\n",
      " [ 0  5  1]]\n"
     ]
    }
   ],
   "source": [
    "print(f'a:\\n{a}')\n",
    "print(f'b:\\n{b}')\n",
    "print(f'c:\\n{c}')"
   ]
  },
  {
   "cell_type": "code",
   "execution_count": 9,
   "id": "d12f3368",
   "metadata": {},
   "outputs": [
    {
     "data": {
      "text/plain": [
       "array([[  9,  -1,   2,  -5],\n",
       "       [ 13, -20,   0,  -2],\n",
       "       [ 15,  18, -10,  -7]])"
      ]
     },
     "execution_count": 9,
     "metadata": {},
     "output_type": "execute_result"
    }
   ],
   "source": [
    "d = np.dot(c, b)\n",
    "d"
   ]
  },
  {
   "cell_type": "code",
   "execution_count": 10,
   "id": "c8175512",
   "metadata": {},
   "outputs": [
    {
     "data": {
      "text/plain": [
       "36.99999999999999"
      ]
     },
     "execution_count": 10,
     "metadata": {},
     "output_type": "execute_result"
    }
   ],
   "source": [
    "det_array = alg.det(c)\n",
    "det_array"
   ]
  },
  {
   "cell_type": "code",
   "execution_count": 11,
   "id": "86e3818a",
   "metadata": {},
   "outputs": [
    {
     "data": {
      "text/plain": [
       "array([[ 15,  20, -10],\n",
       "       [-10,  -5,  20]])"
      ]
     },
     "execution_count": 11,
     "metadata": {},
     "output_type": "execute_result"
    }
   ],
   "source": [
    "d = 5 * a\n",
    "d"
   ]
  },
  {
   "cell_type": "code",
   "execution_count": 12,
   "id": "de5c195e",
   "metadata": {},
   "outputs": [
    {
     "data": {
      "text/plain": [
       "array([[-0.45945946,  0.27027027,  0.10810811],\n",
       "       [-0.05405405, -0.02702703,  0.18918919],\n",
       "       [ 0.27027027,  0.13513514,  0.05405405]])"
      ]
     },
     "execution_count": 12,
     "metadata": {},
     "output_type": "execute_result"
    }
   ],
   "source": [
    "d = alg.inv(c)\n",
    "d"
   ]
  },
  {
   "cell_type": "code",
   "execution_count": 13,
   "id": "47510123",
   "metadata": {},
   "outputs": [
    {
     "data": {
      "text/plain": [
       "array([[11, 15, 14, 11],\n",
       "       [10,  8, 14, 13],\n",
       "       [ 7, 14, 12, 14]])"
      ]
     },
     "execution_count": 13,
     "metadata": {},
     "output_type": "execute_result"
    }
   ],
   "source": [
    "d = 12 - b\n",
    "d"
   ]
  },
  {
   "cell_type": "code",
   "execution_count": 14,
   "id": "e9c8f2b7",
   "metadata": {},
   "outputs": [
    {
     "data": {
      "text/plain": [
       "array([[ 1, 10,  0],\n",
       "       [-6, 19,  1],\n",
       "       [10, -5, 16]])"
      ]
     },
     "execution_count": 14,
     "metadata": {},
     "output_type": "execute_result"
    }
   ],
   "source": [
    "d = np.dot(c, c)\n",
    "d"
   ]
  },
  {
   "cell_type": "code",
   "execution_count": null,
   "id": "bced6974",
   "metadata": {},
   "outputs": [],
   "source": []
  },
  {
   "cell_type": "markdown",
   "id": "0095e90d",
   "metadata": {},
   "source": [
    "## Step 7\n",
    "\n",
    "Решить систему линейных уравнений матричным способом.\n",
    "\n",
    "$$\n",
    "\\begin{equation*}\n",
    " \\begin{cases}\n",
    "   -2x_1-8.5x_2-3.4x_3+3.5x_4=-1.88\\\\\n",
    "   2.4x_2+8.2x_4=-3.28\\\\\n",
    "   2.5x_1-1.6x_2-2.1x_3+3x_4=-0.5\\\\\n",
    "   0.3x_1-0.4x_2-4.8x_3+4.6x_4=-2.83\n",
    " \\end{cases}\n",
    "\\end{equation*}\n",
    "$$\n",
    "\n",
    "Для этого:\n",
    "\n",
    "* сформировать матрицу А, состоящую из коэффициентов левых частей уравнений (должна получиться матрица размером 4 на 4);\n",
    "* сформировать вектор В, каждый элемент которого - соответствующие значения правых частей уравнений;\n",
    "* вычислить вектор - решение системы уравнений по формуле:\n",
    "$$X=A^{-1}\\dot B$$\n",
    "\n",
    "* вывести полученный вектор, округлив значения до одного знака после запятой.\n",
    "\n",
    "**Входные данные:**\n",
    "* нет\n",
    "\n",
    "**Выходные данные:**\n",
    "* вектор-решение.\n",
    "\n",
    "Результат при выводе округлить до одного знака после запятой, используя функцию модуля numpy.\n",
    "\n",
    "___\n",
    "\n",
    "**Sample Input:**\n",
    "\n",
    "**Sample Output:**\n",
    "```\n",
    "[ 0.1 -0.1  0.2 -0.4]\n",
    "```"
   ]
  },
  {
   "cell_type": "code",
   "execution_count": 15,
   "id": "159c441f",
   "metadata": {},
   "outputs": [],
   "source": [
    "import numpy as np\n",
    "import numpy.linalg as alg"
   ]
  },
  {
   "cell_type": "code",
   "execution_count": 16,
   "id": "6dbf0f9d",
   "metadata": {},
   "outputs": [
    {
     "data": {
      "text/plain": [
       "array([[-2. , -8.5, -3.4,  3.5],\n",
       "       [ 0. ,  2.4,  0. ,  8.2],\n",
       "       [ 2.5,  1.6,  2.1,  3. ],\n",
       "       [ 0.3, -0.4, -4.8,  4.6]])"
      ]
     },
     "execution_count": 16,
     "metadata": {},
     "output_type": "execute_result"
    }
   ],
   "source": [
    "a = np.array([[-2, -8.5, -3.4, 3.5],\n",
    "              [0., 2.4, 0., 8.2],\n",
    "              [2.5, 1.6, 2.1, 3],\n",
    "              [0.3, -0.4, -4.8, 4.6]])\n",
    "a"
   ]
  },
  {
   "cell_type": "code",
   "execution_count": 17,
   "id": "8b0697dc",
   "metadata": {},
   "outputs": [
    {
     "data": {
      "text/plain": [
       "array([-1.88, -3.28, -0.5 , -2.83])"
      ]
     },
     "execution_count": 17,
     "metadata": {},
     "output_type": "execute_result"
    }
   ],
   "source": [
    "b = np.array([-1.88, -3.28, -0.5, -2.83])\n",
    "b"
   ]
  },
  {
   "cell_type": "code",
   "execution_count": 18,
   "id": "15405234",
   "metadata": {
    "scrolled": true
   },
   "outputs": [
    {
     "data": {
      "text/plain": [
       "array([ 0.1, -0.1,  0.2, -0.4])"
      ]
     },
     "execution_count": 18,
     "metadata": {},
     "output_type": "execute_result"
    }
   ],
   "source": [
    "x = np.dot(alg.inv(a), b)\n",
    "x = np.round(x, 1)\n",
    "x"
   ]
  },
  {
   "cell_type": "code",
   "execution_count": null,
   "id": "c4104922",
   "metadata": {},
   "outputs": [],
   "source": []
  },
  {
   "cell_type": "markdown",
   "id": "9827c42a",
   "metadata": {},
   "source": [
    "## Step 11"
   ]
  },
  {
   "cell_type": "code",
   "execution_count": 19,
   "id": "c25950ea",
   "metadata": {},
   "outputs": [
    {
     "data": {
      "text/plain": [
       "array([[ 1,  2,  3,  4],\n",
       "       [ 5,  6,  7,  8],\n",
       "       [ 9, 10, 11, 12]])"
      ]
     },
     "execution_count": 19,
     "metadata": {},
     "output_type": "execute_result"
    }
   ],
   "source": [
    "import numpy as np\n",
    "\n",
    "b = np.array([[1, 2, 3, 4], [5, 6, 7, 8], [9, 10, 11, 12]])\n",
    "b"
   ]
  },
  {
   "cell_type": "code",
   "execution_count": 20,
   "id": "cd4d3ad9",
   "metadata": {},
   "outputs": [
    {
     "name": "stdout",
     "output_type": "stream",
     "text": [
      "[[1 2]\n",
      " [5 6]]\n"
     ]
    }
   ],
   "source": [
    "print(b[:2, :2])"
   ]
  },
  {
   "cell_type": "code",
   "execution_count": 21,
   "id": "bf866c5c",
   "metadata": {},
   "outputs": [
    {
     "name": "stdout",
     "output_type": "stream",
     "text": [
      "[ 9 10 11 12]\n"
     ]
    }
   ],
   "source": [
    "print(b[2])"
   ]
  },
  {
   "cell_type": "code",
   "execution_count": 22,
   "id": "42f9e7cb",
   "metadata": {},
   "outputs": [
    {
     "name": "stdout",
     "output_type": "stream",
     "text": [
      "[[1 2 3 4]\n",
      " [5 6 7 8]]\n"
     ]
    }
   ],
   "source": [
    "print(b[:2])"
   ]
  },
  {
   "cell_type": "code",
   "execution_count": 23,
   "id": "c7074c1c",
   "metadata": {},
   "outputs": [
    {
     "name": "stdout",
     "output_type": "stream",
     "text": [
      "[3 7]\n"
     ]
    }
   ],
   "source": [
    "print(b[:2, 2])"
   ]
  },
  {
   "cell_type": "code",
   "execution_count": 24,
   "id": "6c269c0b",
   "metadata": {},
   "outputs": [
    {
     "name": "stdout",
     "output_type": "stream",
     "text": [
      "[ 3  7 11]\n"
     ]
    }
   ],
   "source": [
    "print(b[: , 2])"
   ]
  },
  {
   "cell_type": "code",
   "execution_count": null,
   "id": "9f4e2027",
   "metadata": {},
   "outputs": [],
   "source": []
  },
  {
   "cell_type": "markdown",
   "id": "964e3e3e",
   "metadata": {},
   "source": [
    "## Step 13\n",
    "\n",
    "**Задача.**\n",
    "\n",
    "Дан многоугольник на плоскости, заданный  координатами своих вершин. Найти координаты вершин многоугольника, полученные поворотом каждой точки  на заданный угол вокруг начала координат. Вычислить средние значения координат по оси ОХ и ОУ повернутого многоугольника.\n",
    "\n",
    "**Входные данные:**\n",
    "\n",
    "* количество вершин многоугольника (целое число);\n",
    "* список вершин многоугольника, каждая вершина на отдельной строке, строка состоит из двух чисел через пробел, определяющие \n",
    "* координаты вершины по оси ОХ и OY (целые числа);\n",
    "* угол поворота в градусах (целое число).\n",
    "\n",
    "**Выходные данные:**\n",
    "\n",
    "среднее значение абсцисс (координат x) и ординат(координат y) точек повернутого многоугольника, для вывода использовать шаблон:\n",
    "```\n",
    "\"avg_x = %6.2f, avg_y = %6.2f\"\n",
    "```\n",
    "\n",
    "**Пояснение:**\n",
    "\n",
    "* Создать двухмерный массив из вершин многоугольника (количество строк - количество вершин, количество столбцов  2, для координат x и у точки).\n",
    "* Умножить массив вершин на матрицу поворота. Полученная матрица - координаты вершин многоугольника после поворота.\n",
    "\n",
    "$$\n",
    "\\begin{bmatrix}\n",
    "\\cos\\phi  & \\sin\\phi \\\\\n",
    "-\\sin\\phi & \\cos\\phi\n",
    "\\end{bmatrix}\n",
    "$$\n",
    "* Найти среднее значение первого столбца (avg_x) и среднее значение второго (avg_y).\n",
    "\n",
    "___\n",
    "\n",
    "**Sample Input:**\n",
    "```\n",
    "3\n",
    "-7 -8\n",
    "-11 4\n",
    "-9 5\n",
    "45\n",
    "```\n",
    "**Sample Output:**\n",
    "```\n",
    "avg_x =  -6.60, avg_y =  -6.13\n",
    "```"
   ]
  },
  {
   "cell_type": "code",
   "execution_count": 25,
   "id": "d5d41596",
   "metadata": {},
   "outputs": [],
   "source": [
    "import numpy as np"
   ]
  },
  {
   "cell_type": "code",
   "execution_count": 26,
   "id": "b9b3b0a8",
   "metadata": {},
   "outputs": [],
   "source": [
    "# # вводим количество вершин многоугольника\n",
    "# n_vertices = int(input())\n",
    "\n",
    "# # вводим координаты вершин\n",
    "# vertices = []\n",
    "# for _ in range(n_vertices):\n",
    "#     v = input()\n",
    "#     vx, vy = map(int, v.split())\n",
    "#     vertices.append([vx, vy])\n",
    "\n",
    "# # вводим угол поворота\n",
    "# phi = int(input())"
   ]
  },
  {
   "cell_type": "code",
   "execution_count": 27,
   "id": "2c542f41",
   "metadata": {},
   "outputs": [],
   "source": [
    "input_n_vertices = '3'\n",
    "input_v1 = '-7 -8'\n",
    "input_v2 = '-11 4'\n",
    "input_v3 = '-9 5'\n",
    "input_phi = '45'\n",
    "\n",
    "# вводим количество вершин многоугольника\n",
    "n_vertices = int(input_n_vertices)\n",
    "\n",
    "# вводим координаты вершин\n",
    "vertices = []\n",
    "for v in [input_v1, input_v2, input_v3]:\n",
    "    vx, vy = map(int, v.split())\n",
    "    vertices.append([vx, vy])\n",
    "\n",
    "# вводим угол поворота\n",
    "phi = int(input_phi)"
   ]
  },
  {
   "cell_type": "code",
   "execution_count": 28,
   "id": "48672437",
   "metadata": {},
   "outputs": [
    {
     "data": {
      "text/plain": [
       "array([[ -7,  -8],\n",
       "       [-11,   4],\n",
       "       [ -9,   5]])"
      ]
     },
     "execution_count": 28,
     "metadata": {},
     "output_type": "execute_result"
    }
   ],
   "source": [
    "# матрица координат всех вершин\n",
    "vertices = np.array(vertices, dtype=int)\n",
    "vertices"
   ]
  },
  {
   "cell_type": "code",
   "execution_count": 29,
   "id": "b5064b7b",
   "metadata": {},
   "outputs": [
    {
     "data": {
      "text/plain": [
       "array([[ 0.70710678,  0.70710678],\n",
       "       [-0.70710678,  0.70710678]])"
      ]
     },
     "execution_count": 29,
     "metadata": {},
     "output_type": "execute_result"
    }
   ],
   "source": [
    "# матрица поворота\n",
    "phi_rad = np.radians(phi)\n",
    "rotate = np.array([[np.cos(phi_rad), np.sin(phi_rad)],\n",
    "                   [-np.sin(phi_rad), np.cos(phi_rad)]])\n",
    "\n",
    "rotate"
   ]
  },
  {
   "cell_type": "code",
   "execution_count": 30,
   "id": "0b18e08e",
   "metadata": {},
   "outputs": [
    {
     "data": {
      "text/plain": [
       "array([[  0.70710678, -10.60660172],\n",
       "       [-10.60660172,  -4.94974747],\n",
       "       [ -9.89949494,  -2.82842712]])"
      ]
     },
     "execution_count": 30,
     "metadata": {},
     "output_type": "execute_result"
    }
   ],
   "source": [
    "# поворациваем вершины\n",
    "rotated_vertice = np.dot(vertices, rotate)\n",
    "rotated_vertice"
   ]
  },
  {
   "cell_type": "code",
   "execution_count": 31,
   "id": "84fdd342",
   "metadata": {},
   "outputs": [
    {
     "name": "stdout",
     "output_type": "stream",
     "text": [
      "avg_x =  -6.60, avg_y =  -6.13\n"
     ]
    }
   ],
   "source": [
    "# ищем центр масс\n",
    "avg = np.mean(rotated_vertice, 0)\n",
    "\n",
    "print(\"avg_x = %6.2f, avg_y = %6.2f\" % (avg[0], avg[1]))"
   ]
  },
  {
   "cell_type": "code",
   "execution_count": null,
   "id": "9e4880ad",
   "metadata": {},
   "outputs": [],
   "source": []
  }
 ],
 "metadata": {
  "kernelspec": {
   "display_name": "Python 3",
   "language": "python",
   "name": "python3"
  },
  "language_info": {
   "codemirror_mode": {
    "name": "ipython",
    "version": 3
   },
   "file_extension": ".py",
   "mimetype": "text/x-python",
   "name": "python",
   "nbconvert_exporter": "python",
   "pygments_lexer": "ipython3",
   "version": "3.8.11"
  }
 },
 "nbformat": 4,
 "nbformat_minor": 5
}
