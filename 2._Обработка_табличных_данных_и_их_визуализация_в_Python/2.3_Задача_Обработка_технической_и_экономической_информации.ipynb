{
 "cells": [
  {
   "cell_type": "markdown",
   "id": "3aebd841",
   "metadata": {},
   "source": [
    "# Задача\n",
    "\n",
    "**а)** Рассчитать теплопроводность кремния для заданного интервала температур. Количество расчетных значений - 20, формула вычисления теплопроводности:\n",
    "$$\n",
    "\\begin{equation*}\n",
    "    \\lambda_t = b \\cdot \\frac{\\lambda_0}{t-t_0}\n",
    "\\end{equation*}\n",
    "$$\n",
    "где:\n",
    "\n",
    "$\\lambda_t$ - теплопроводность для температуры $t$;\n",
    "\n",
    "$t_0$ - температура, равная 100°К;\n",
    "\n",
    "$\\lambda_0$ - теплопроводность кремния при температуре 100°К, равная 884 Вт/(м·К) ;\n",
    "\n",
    "$b$- константа, подбираемая экспериментально, равна 33.\n",
    "\n",
    "**б)** Сравнить расчетные значения теплопроводности, вычисленные по формуле , со значениями, полученными экспериментально.\n",
    "\n",
    "Для этого:\n",
    "\n",
    "1. Вычислить значения теплопроводности по формуле вычисления теплопроводности для приведенного в таблице диапазона температур.\n",
    "\n",
    "2. Посчитать относительную погрешность каждого измерения.\n",
    "\n",
    "3. Найти минимальную и максимальную погрешность вычислений, указать для каких значений температур они вычислены, найти среднюю погрешность.\n",
    "\n",
    "**в)** Построить графики экспериментальных и теоретических значений теплопроводности на интервале температур от 200° до 1600° по Кельвину."
   ]
  },
  {
   "cell_type": "markdown",
   "id": "b5191468",
   "metadata": {},
   "source": [
    "## Реализация задачи, часть а)"
   ]
  },
  {
   "cell_type": "code",
   "execution_count": 1,
   "id": "38392c33",
   "metadata": {},
   "outputs": [],
   "source": [
    "def compute_lambda(t):\n",
    "    b = 33\n",
    "    l_0 = 884\n",
    "    t_0 = 100\n",
    "    y = b * l_0 /(t-t_0)\n",
    "    return y"
   ]
  },
  {
   "cell_type": "code",
   "execution_count": 2,
   "id": "7346ed09",
   "metadata": {},
   "outputs": [
    {
     "name": "stdout",
     "output_type": "stream",
     "text": [
      "---------------------\n",
      "|       t |    L(t) |\n",
      "---------------------\n",
      "|  200.00 |  291.72 |\n",
      "|  268.42 |  173.21 |\n",
      "|  336.84 |  123.17 |\n",
      "|  405.26 |   95.56 |\n",
      "|  473.68 |   78.07 |\n",
      "|  542.11 |   65.98 |\n",
      "|  610.53 |   57.14 |\n",
      "|  678.95 |   50.39 |\n",
      "|  747.37 |   45.06 |\n",
      "|  815.79 |   40.76 |\n",
      "|  884.21 |   37.20 |\n",
      "|  952.63 |   34.21 |\n",
      "| 1021.05 |   31.67 |\n",
      "| 1089.47 |   29.48 |\n",
      "| 1157.89 |   27.58 |\n",
      "| 1226.32 |   25.90 |\n",
      "| 1294.74 |   24.42 |\n",
      "| 1363.16 |   23.09 |\n",
      "| 1431.58 |   21.91 |\n",
      "| 1500.00 |   20.84 |\n",
      "---------------------\n"
     ]
    }
   ],
   "source": [
    "# Границы температурного интервала\n",
    "# t1=float(input(\"t1 = \"))\n",
    "# t2=float(input(\"t2 = \"))\n",
    "t1 = 200\n",
    "t2 = 1500\n",
    "\n",
    "if t2 <= t1 or t1 <= 100:    \n",
    "    print(\"Неверные границы температур\")    \n",
    "else:    \n",
    "    n = 20\n",
    "    h = (t2 - t1)/(n - 1)\n",
    "\n",
    "    t_list = [t1 + i * h for i in range(0,n)]\n",
    "    lambda_list = [compute_lambda(t) for t in t_list]\n",
    "    \n",
    "    print(\"-\" * 21)\n",
    "    print(\"| %7s | %7s |\" % (\"t\", \"L(t)\"))\n",
    "    print(\"-\" * 21)\n",
    "    for i in range(len(t_list)):\n",
    "         print(\"| %7.2f | %7.2f |\" % (t_list[i], lambda_list[i]))\n",
    "    print(\"-\" * 21)"
   ]
  },
  {
   "cell_type": "markdown",
   "id": "09c0261c",
   "metadata": {},
   "source": [
    "## Реализация задачи, часть б)\n",
    "1. Создать файл `lambda_exp.txt`. Структура файла следующая: каждая строка включает значение температуры и экспериментальное значение теплопроводности через пробел. После последней строки вставить `enter`:\n",
    "```\n",
    "200 264\n",
    "300 148\n",
    "400 98.2\n",
    "500 76.2\n",
    "600 61.3\n",
    "700 50.8\n",
    "800 42.2\n",
    "900 35.9\n",
    "1000 31.2\n",
    "1100 28.5\n",
    "1200 25.7\n",
    "1300 24.6\n",
    "1400 23.5\n",
    "1500 22.8\n",
    "1600 22.1\n",
    "```"
   ]
  },
  {
   "cell_type": "code",
   "execution_count": 3,
   "id": "a37ebb05",
   "metadata": {},
   "outputs": [],
   "source": [
    "def compute_lambda(t):\n",
    "    b = 33\n",
    "    l_0 = 884\n",
    "    t_0 = 100\n",
    "    y = b * l_0 /(t-t_0)\n",
    "    return y"
   ]
  },
  {
   "cell_type": "code",
   "execution_count": 4,
   "id": "99ee81e7",
   "metadata": {},
   "outputs": [],
   "source": [
    "f = open(\"lambda_exp.txt\", \"r\")\n",
    "\n",
    "t_list =[]\n",
    "lambda_exp_list = []\n",
    "\n",
    "for line in f:\n",
    "    t_lambda_list = line.split()\n",
    "    t_list.append(float(t_lambda_list[0]))\n",
    "    lambda_exp_list.append(float(t_lambda_list[1]))\n",
    "    \n",
    "f.close()"
   ]
  },
  {
   "cell_type": "code",
   "execution_count": 5,
   "id": "0b319c5c",
   "metadata": {},
   "outputs": [],
   "source": [
    "lambda_list =[compute_lambda(t) for t in t_list]\n",
    "\n",
    "error_list = [abs((lambda_exp_list[i] - lambda_list[i]) / lambda_exp_list[i] )\n",
    "              for i in range(len(t_list))]"
   ]
  },
  {
   "cell_type": "code",
   "execution_count": 6,
   "id": "168004ed",
   "metadata": {},
   "outputs": [
    {
     "name": "stdout",
     "output_type": "stream",
     "text": [
      "----------------------------------------\n",
      "|      t |    l(t) |  exp(t) |   error |\n",
      "----------------------------------------\n",
      "|    200 | 291.720 |   264.0 |  10.50% |\n",
      "|    300 | 145.860 |   148.0 |   1.45% |\n",
      "|    400 |  97.240 |    98.2 |   0.98% |\n",
      "|    500 |  72.930 |    76.2 |   4.29% |\n",
      "|    600 |  58.344 |    61.3 |   4.82% |\n",
      "|    700 |  48.620 |    50.8 |   4.29% |\n",
      "|    800 |  41.674 |    42.2 |   1.25% |\n",
      "|    900 |  36.465 |    35.9 |   1.57% |\n",
      "|   1000 |  32.413 |    31.2 |   3.89% |\n",
      "|   1100 |  29.172 |    28.5 |   2.36% |\n",
      "|   1200 |  26.520 |    25.7 |   3.19% |\n",
      "|   1300 |  24.310 |    24.6 |   1.18% |\n",
      "|   1400 |  22.440 |    23.5 |   4.51% |\n",
      "|   1500 |  20.837 |    22.8 |   8.61% |\n",
      "|   1600 |  19.448 |    22.1 |  12.00% |\n",
      "----------------------------------------\n"
     ]
    }
   ],
   "source": [
    "print(\"-\" * 40)\n",
    "print(\"|%7s | %7s | %7s |%8s |\" % (\"t\",\"l(t)\",\"exp(t)\", \"error\"))\n",
    "print( \"-\" * 40)\n",
    "\n",
    "for i in range(len(t_list)):\n",
    "    print(\"|%7d | %7.3f | %7.1f |%7.2f%% |\"\n",
    "          % (t_list[i], lambda_list[i], lambda_exp_list[i], error_list[i] * 100))\n",
    "\n",
    "print(\"-\" * 40) "
   ]
  },
  {
   "cell_type": "code",
   "execution_count": 7,
   "id": "2e8b1d69",
   "metadata": {},
   "outputs": [
    {
     "name": "stdout",
     "output_type": "stream",
     "text": [
      "Максимальная погрешность = 12.00%  при t =  1600\n"
     ]
    }
   ],
   "source": [
    "max_error = max(error_list)\n",
    "index_max_error = error_list.index(max_error)\n",
    "\n",
    "print(\"Максимальная погрешность = %5.2f%%  при t = %5d\" \n",
    "      % (max_error * 100, t_list[index_max_error]))"
   ]
  },
  {
   "cell_type": "code",
   "execution_count": 8,
   "id": "b35f9c4e",
   "metadata": {},
   "outputs": [
    {
     "name": "stdout",
     "output_type": "stream",
     "text": [
      "Минимальная погрешность =  0.98%  при t =   400\n"
     ]
    }
   ],
   "source": [
    "min_error = min(error_list)\n",
    "index_min_error = error_list.index(min_error)\n",
    "\n",
    "print(\"Минимальная погрешность = %5.2f%%  при t = %5d\" \n",
    "      % (min_error * 100, t_list[index_min_error]))"
   ]
  },
  {
   "cell_type": "code",
   "execution_count": 9,
   "id": "9f3c0102",
   "metadata": {},
   "outputs": [
    {
     "name": "stdout",
     "output_type": "stream",
     "text": [
      "Средняя погрешность =  4.33%\n"
     ]
    }
   ],
   "source": [
    "avg_error = sum(error_list) / len(t_list)\n",
    "print(\"Средняя погрешность = %5.2f%%\" % (avg_error * 100))"
   ]
  },
  {
   "cell_type": "markdown",
   "id": "541e2275",
   "metadata": {},
   "source": [
    "## Задание\n",
    "Результаты сравнения экспериментального и вычисленного значения теплопроводности показывают, что наибольшая погрешность наблюдается для первой (200 К) и двух последних (1500 К и 1600 К) температур. Используя предыдущую задачу, вычислите максимальную и среднюю погрешность для интервала температур от 300 К до 1400 К.\n",
    "\n",
    "Пояснение. Для того, чтобы выделить из списка его часть используются  \"срезы\". Например, чтобы выделить из списка значения  с индексами от 2 до 4 (включительно) и сформировать новый список, используется запись:\n",
    "```python\n",
    "x_list = [2, 4, -5, 1, 8, -3, 7]\n",
    "y_list = x_list[2:5] # будет занесено [-5, 1, 8]\n",
    "```"
   ]
  },
  {
   "cell_type": "code",
   "execution_count": 10,
   "id": "1e50a410",
   "metadata": {},
   "outputs": [
    {
     "name": "stdout",
     "output_type": "stream",
     "text": [
      "----------------------------------------\n",
      "|      t |    l(t) |  exp(t) |   error |\n",
      "----------------------------------------\n",
      "|    300 | 145.860 |   148.0 |   1.45% |\n",
      "|    400 |  97.240 |    98.2 |   0.98% |\n",
      "|    500 |  72.930 |    76.2 |   4.29% |\n",
      "|    600 |  58.344 |    61.3 |   4.82% |\n",
      "|    700 |  48.620 |    50.8 |   4.29% |\n",
      "|    800 |  41.674 |    42.2 |   1.25% |\n",
      "|    900 |  36.465 |    35.9 |   1.57% |\n",
      "|   1000 |  32.413 |    31.2 |   3.89% |\n",
      "|   1100 |  29.172 |    28.5 |   2.36% |\n",
      "|   1200 |  26.520 |    25.7 |   3.19% |\n",
      "|   1300 |  24.310 |    24.6 |   1.18% |\n",
      "|   1400 |  22.440 |    23.5 |   4.51% |\n",
      "----------------------------------------\n",
      "Максимальная погрешность =  4.82%  при t =   600\n",
      "Минимальная погрешность =  0.98%  при t =   400\n",
      "Средняя погрешность =  2.81%\n"
     ]
    }
   ],
   "source": [
    "t_min = 300\n",
    "t_max = 1400\n",
    "\n",
    "ind_min = t_list.index(t_min)\n",
    "ind_max = t_list.index(t_max)\n",
    "\n",
    "t_list      = t_list     [ind_min:ind_max+1]\n",
    "lambda_list = lambda_list[ind_min:ind_max+1]\n",
    "error_list  = error_list [ind_min:ind_max+1]\n",
    "lambda_exp_list = lambda_exp_list[ind_min:ind_max+1]\n",
    "\n",
    "\n",
    "print(\"-\" * 40)\n",
    "print(\"|%7s | %7s | %7s |%8s |\" % (\"t\",\"l(t)\",\"exp(t)\", \"error\"))\n",
    "print( \"-\" * 40)\n",
    "for i in range(len(t_list)):\n",
    "    print(\"|%7d | %7.3f | %7.1f |%7.2f%% |\"\n",
    "          % (t_list[i], lambda_list[i], lambda_exp_list[i], error_list[i] * 100))\n",
    "print(\"-\" * 40) \n",
    "\n",
    "\n",
    "max_error = max(error_list)\n",
    "index_max_error = error_list.index(max_error)\n",
    "\n",
    "print(\"Максимальная погрешность = %5.2f%%  при t = %5d\" \n",
    "      % (max_error * 100, t_list[index_max_error]))\n",
    "\n",
    "\n",
    "min_error = min(error_list)\n",
    "index_min_error = error_list.index(min_error)\n",
    "\n",
    "print(\"Минимальная погрешность = %5.2f%%  при t = %5d\" \n",
    "      % (min_error * 100, t_list[index_min_error]))\n",
    "\n",
    "\n",
    "avg_error = sum(error_list) / len(t_list)\n",
    "print(\"Средняя погрешность = %5.2f%%\" % (avg_error * 100))"
   ]
  },
  {
   "cell_type": "code",
   "execution_count": null,
   "id": "5d0d44ee",
   "metadata": {},
   "outputs": [],
   "source": []
  },
  {
   "cell_type": "markdown",
   "id": "335cd334",
   "metadata": {},
   "source": [
    "## Реализация задачи, часть в)"
   ]
  },
  {
   "cell_type": "code",
   "execution_count": 11,
   "id": "dd86b6e4",
   "metadata": {},
   "outputs": [
    {
     "data": {
      "image/png": "[encoded data removed]",
      "text/plain": [
       "<Figure size 432x288 with 1 Axes>"
      ]
     },
     "metadata": {
      "needs_background": "light"
     },
     "output_type": "display_data"
    }
   ],
   "source": [
    "import matplotlib.pyplot as plt\n",
    "\n",
    "line_th = plt.plot(t_list, lambda_list, label = 'теоретические')\n",
    "line_exp = plt.plot(t_list, lambda_exp_list, label = 'экспериментальные')\n",
    "\n",
    "# задаем стили для линий\n",
    "plt.setp(line_exp, color= \"blue\", linestyle = \"--\", linewidth = 2 )\n",
    "plt.setp(line_th, color= \"red\", linewidth = 2)\n",
    "\n",
    "plt.legend()\n",
    "plt.gca().spines[\"left\"].set_position(\"zero\")\n",
    "plt.gca().spines[\"bottom\"].set_position(\"zero\")\n",
    "plt.gca().spines[\"top\"].set_visible(False)\n",
    "plt.gca().spines[\"right\"].set_visible(False)\n",
    "plt.title(\"Значения теплопроводности\")\n",
    "plt.show()"
   ]
  },
  {
   "cell_type": "code",
   "execution_count": null,
   "id": "bce910d8",
   "metadata": {},
   "outputs": [],
   "source": []
  },
  {
   "cell_type": "markdown",
   "id": "a74a527e",
   "metadata": {},
   "source": [
    "# Задача\n",
    "Рассчитать ежемесячную сумму платежа по кредиту при использовании дифференцированных выплат (в этом случае ежемесячный платеж по погашению кредита постепенно уменьшается к концу периода кредитования). Сумма кредита составляет ***s*** рублей, срок кредита ***n*** месяцев, процент - ***k***%.\n",
    "\n",
    "Для расчета платежа в месяц ***t*** используется формула:\n",
    "$$\n",
    "\\begin{equation*}\n",
    "    p(t) = \\frac{s}{n} + (s-(t-1)\\cdot \\frac{s}{n})\\cdot \\frac{k}{12\\cdot 100}\n",
    "\\end{equation*}\n",
    "$$\n",
    "Вычислить платежи для каждого месяца и доход банка (разница между суммарной выплатой и суммой кредита).\n",
    "\n",
    "#### Входные данные:\n",
    "\n",
    "* сумма кредита ***s*** руб (целое число);\n",
    "* срок кредита ***n*** месяцев (целое число);\n",
    "процент k (целое число).\n",
    "\n",
    "#### Выходные данные\n",
    "\n",
    "* n строк, на каждой из которых выведены платежи за каждый месяц, для вывода использовать формат:\n",
    "    **\"%2d месяц - %8.2f руб\"**\n",
    "\n",
    "* доход банка, для вывода использовать формат:\n",
    "    **\"Доход банка - %6.2f руб\"**"
   ]
  },
  {
   "cell_type": "code",
   "execution_count": 12,
   "id": "abcf09dd",
   "metadata": {},
   "outputs": [
    {
     "name": "stdout",
     "output_type": "stream",
     "text": [
      " 1 месяц - 55000.00 руб\n",
      " 2 месяц - 54166.67 руб\n",
      " 3 месяц - 53333.33 руб\n",
      " 4 месяц - 52500.00 руб\n",
      " 5 месяц - 51666.67 руб\n",
      " 6 месяц - 50833.33 руб\n",
      "Доход банка - 17500.00 руб\n"
     ]
    }
   ],
   "source": [
    "# строки для форматного вывода\n",
    "#\"%2d месяц - %8.2f руб\"\n",
    "#\"Доход банка - %6.2f руб\"\n",
    "\n",
    "# s = int(input()) \n",
    "# n = int(input()) # months\n",
    "# k = int(input()) # %\n",
    "s = 300000\n",
    "n = 6\n",
    "k = 20\n",
    "\n",
    "def compute_payment(t, s, n, k):\n",
    "    p = s/n + (s - (t-1) * s / n) * k / (12 * 100)\n",
    "    return p\n",
    "\n",
    "acc = 0\n",
    "for t in range(1, n+1):\n",
    "    p = compute_payment(t, s, n, k)\n",
    "    print(\"%2d месяц - %8.2f руб\" % (t, p))\n",
    "    acc += p\n",
    "\n",
    "print(\"Доход банка - %6.2f руб\" % (acc - s))"
   ]
  },
  {
   "cell_type": "code",
   "execution_count": null,
   "id": "0ee19db6",
   "metadata": {},
   "outputs": [],
   "source": []
  },
  {
   "cell_type": "markdown",
   "id": "1cbc64b9",
   "metadata": {},
   "source": [
    "## Задача\n",
    "Сравнить значения реальной численности населения в определенные годы со значениями, вычисленными по формуле в те же годы: \n",
    "$$\n",
    "\\begin{equation*}\n",
    "    N(t) = \\frac{C}{\\tau}\\cdot\\arctan(\\frac{T_1-t}{\\tau})\n",
    "\\end{equation*}\n",
    "$$\n",
    "где:\n",
    "\n",
    "$t$ - год, для которого вычисляется численность населения;\n",
    "\n",
    "$C$ - 172 миллиарда человек·лет;\n",
    "\n",
    "$T_1$ -  2000 год;\n",
    "\n",
    "$\\tau$ - 45 лет.\n",
    "\n",
    "Точные значения численности и соответствующие года записаны в виде списков (их нужно скопировать в свою программу):\n",
    "```python\n",
    "years = [1000, 1750, 1800, 1850, 1900, 1950, 1955, \n",
    "         1960, 1965, 1970, 1975, 1980, 1985, 1990, 1995, \n",
    "         2000, 2005, 2010, 2011, 2012, 2013, 2014, 2015,\n",
    "         2016, 2017, 2018, 2019]\n",
    "\n",
    "population =[0.400, 0.791, 1.000, 1.262, 1.650, 2.519,\n",
    "             2.756, 3.021, 3.335, 3.692, 4.068, 4.435, 4.831,\n",
    "             5.264, 5.674, 6.071, 6.344, 6.933, 7.015, 7.100,\n",
    "             7.162, 7.271, 7.358, 7.444, 7.530, 7.669, 7.763]  \n",
    "```\n",
    "Для заданного интервала лет вычислить:\n",
    "\n",
    "* в каком году относительная погрешность между реальной и вычисленной численностью минимальна;\n",
    "* в каком году относительная погрешность максимальна;\n",
    "* среднюю погрешность в процентах.\n",
    "\n",
    "**Входные данные**:\n",
    "\n",
    " два целых числа, соответствующие первому и последнему индексам списков, для которых нужно произвести вычисления.\n",
    "Например, на входе программы числа 3 и 7. Это значит, что вычисления нужно произвести для списков, состоящих из элементов исходных списков с номерами 3, 4, 5, 6 и 7. Выделить эти элементы из, например, списка years можно с помощью среза years[3:8]. \n",
    "\n",
    "**Выходные данные**:\n",
    "\n",
    "* год, в котором погрешность между реальной и вычисленной численностью минимальна (целое число);\n",
    "* год, в котором погрешность между реальной и вычисленной численностью максимальна (целое число);\n",
    "* средняя погрешность в процентах (вещественное число).\n",
    "\n",
    "Для вывода использовать следующий формат:\n",
    "\n",
    "**\"Погрешность - минимальная, год: %4d, максимальная, год: %4d, средняя, процент: %6.3f\"**"
   ]
  },
  {
   "cell_type": "code",
   "execution_count": 13,
   "id": "da3feda9",
   "metadata": {},
   "outputs": [
    {
     "name": "stdout",
     "output_type": "stream",
     "text": [
      "--------------------------------------------------\n",
      "|  ind |   year | pop real | pop expect |   error |\n",
      "--------------------------------------------------\n",
      "|    0 |   1000 |    0.400 |        0.2 |  57.03% |\n",
      "|    1 |   1750 |    0.791 |        0.7 |  13.94% |\n",
      "|    2 |   1800 |    1.000 |        0.8 |  15.41% |\n",
      "|    3 |   1850 |    1.262 |        1.1 |  11.73% |\n",
      "|    4 |   1900 |    1.650 |        1.6 |   2.05% |\n",
      "|    5 |   1950 |    2.519 |        2.8 |  11.19% |\n",
      "|    6 |   1955 |    2.756 |        3.0 |   8.92% |\n",
      "|    7 |   1960 |    3.021 |        3.2 |   6.80% |\n",
      "|    8 |   1965 |    3.335 |        3.5 |   4.27% |\n",
      "|    9 |   1970 |    3.692 |        3.8 |   1.75% |\n",
      "|   10 |   1975 |    4.068 |        4.1 |   0.06% |\n",
      "|   11 |   1980 |    4.435 |        4.4 |   0.67% |\n",
      "|   12 |   1985 |    4.831 |        4.8 |   1.18% |\n",
      "|   13 |   1990 |    5.264 |        5.2 |   1.82% |\n",
      "|   14 |   1995 |    5.674 |        5.6 |   1.64% |\n",
      "|   15 |   2000 |    6.071 |        6.0 |   1.10% |\n",
      "|   16 |   2005 |    6.344 |        6.4 |   1.31% |\n",
      "|   17 |   2010 |    6.933 |        6.8 |   1.35% |\n",
      "|   18 |   2011 |    7.015 |        6.9 |   1.35% |\n",
      "|   19 |   2012 |    7.100 |        7.0 |   1.41% |\n",
      "|   20 |   2013 |    7.162 |        7.1 |   1.16% |\n",
      "|   21 |   2014 |    7.271 |        7.2 |   1.57% |\n",
      "|   22 |   2015 |    7.358 |        7.2 |   1.69% |\n",
      "|   23 |   2016 |    7.444 |        7.3 |   1.80% |\n",
      "|   24 |   2017 |    7.530 |        7.4 |   1.93% |\n",
      "|   25 |   2018 |    7.669 |        7.5 |   2.75% |\n",
      "|   26 |   2019 |    7.763 |        7.5 |   2.99% |\n",
      "--------------------------------------------------\n"
     ]
    }
   ],
   "source": [
    "# строка форматного вывода\n",
    "# \"Погрешность - минимальная, год: %4d, максимальная, год: %4d, средняя, процент: %6.3f\"%\n",
    "import math\n",
    "\n",
    "def arcctg(x):\n",
    "    return math.pi/2 - math.atan(x)\n",
    "\n",
    "def compute_population(t):\n",
    "    # вычислить численность населения для года t по формуле\n",
    "    C = 172\n",
    "    T1 = 2000\n",
    "    tau = 45\n",
    "    \n",
    "    N = C/tau * arcctg((T1-t)/tau)\n",
    "    \n",
    "    return N\n",
    "\n",
    "years = [1000, 1750, 1800, 1850, 1900, 1950, 1955, \n",
    "         1960, 1965, 1970, 1975, 1980, 1985, 1990, 1995, \n",
    "         2000, 2005, 2010, 2011, 2012, 2013, 2014, 2015,\n",
    "         2016, 2017, 2018, 2019]\n",
    "\n",
    "population_real =[0.400, 0.791, 1.000, 1.262, 1.650, 2.519,\n",
    "             2.756, 3.021, 3.335, 3.692, 4.068, 4.435, 4.831,\n",
    "             5.264, 5.674, 6.071, 6.344, 6.933, 7.015, 7.100,\n",
    "             7.162, 7.271, 7.358, 7.444, 7.530, 7.669, 7.763] \n",
    "\n",
    "population_exp = [compute_population(t) for t in years]\n",
    "\n",
    "error = [(abs(population_exp[i] - population_real[i])) / population_real[i] for i in range(len(years))]\n",
    "\n",
    "print(\"-\" * 50)\n",
    "print(\"|%5s |%7s | %7s | %7s |%8s |\" % (\"ind\", \"year\",\"pop real\",\"pop expect\", \"error\"))\n",
    "print( \"-\" * 50)\n",
    "for i in range(len(years)):\n",
    "    print(\"|%5d |%7d | %8.3f | %10.1f |%7.2f%% |\"\n",
    "          % (i, years[i], population_real[i], population_exp[i], error[i] * 100))\n",
    "print(\"-\" * 50)"
   ]
  },
  {
   "cell_type": "code",
   "execution_count": 14,
   "id": "5e0e33a2",
   "metadata": {},
   "outputs": [
    {
     "name": "stdout",
     "output_type": "stream",
     "text": [
      "Погрешность - минимальная, год: 1975, максимальная, год: 1960, средняя, процент:  1.929\n"
     ]
    }
   ],
   "source": [
    "# i1 = int(input()) # first index\n",
    "# i2 = int(input()) # second index\n",
    "i1 = 7\n",
    "i2 = 26\n",
    "\n",
    "# slices\n",
    "years = years[i1:i2+1]\n",
    "population_real = population_real[i1:i2+1]\n",
    "population_exp = population_exp[i1:i2+1]\n",
    "error = error[i1:i2+1]\n",
    "\n",
    "avg_error = sum(error) / len(years)\n",
    "\n",
    "max_error = max(error)\n",
    "min_error = min(error)\n",
    "\n",
    "index_max_error = error.index(max_error)\n",
    "index_min_error = error.index(min_error)\n",
    "\n",
    "print(\"Погрешность - минимальная, год: %4d, максимальная, год: %4d, средняя, процент: %6.3f\" \n",
    "      % (years[index_min_error], years[index_max_error], avg_error * 100))"
   ]
  },
  {
   "cell_type": "code",
   "execution_count": null,
   "id": "9c0b05c5",
   "metadata": {},
   "outputs": [],
   "source": []
  },
  {
   "cell_type": "code",
   "execution_count": null,
   "id": "c13b2ede",
   "metadata": {},
   "outputs": [],
   "source": []
  }
 ],
 "metadata": {
  "kernelspec": {
   "display_name": "Python 3",
   "language": "python",
   "name": "python3"
  },
  "language_info": {
   "codemirror_mode": {
    "name": "ipython",
    "version": 3
   },
   "file_extension": ".py",
   "mimetype": "text/x-python",
   "name": "python",
   "nbconvert_exporter": "python",
   "pygments_lexer": "ipython3",
   "version": "3.8.11"
  }
 },
 "nbformat": 4,
 "nbformat_minor": 5
}
