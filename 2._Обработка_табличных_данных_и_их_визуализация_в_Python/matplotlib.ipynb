{
 "cells": [
  {
   "cell_type": "markdown",
   "id": "672210d8",
   "metadata": {},
   "source": [
    "# Matplotlib\n",
    "\n",
    "https://matplotlib.org/\n",
    "\n",
    "___\n",
    "\n",
    "**Разделы**\n",
    "\n",
    "[Функция subplot()](#Функция-subplot())\n",
    "\n",
    "[Функция subplots()](#Функция-subplots())\n",
    "\n",
    "[Объект Figure](#Объект-Figure)\n",
    "\n",
    "[Готовый шаблон](#Готовый-шаблон)\n",
    "___"
   ]
  },
  {
   "cell_type": "markdown",
   "id": "46175f32",
   "metadata": {},
   "source": [
    "Есть объект **Рисунок** - `Figure`.\n",
    "\n",
    "На **Рисунке** строятся **Графики** - `Axes`.\n",
    "\n",
    "То есть `Figure` -- это общее **окно**, холст, на котором можно построить один или несколько **графиков** `Axes`.\n",
    "\n",
    "`Axes` -- сам **график** с осями, точками, линиями, названием, легендой, ..."
   ]
  },
  {
   "cell_type": "code",
   "execution_count": 1,
   "id": "d80b63ba",
   "metadata": {},
   "outputs": [],
   "source": [
    "import matplotlib.pyplot as plt\n",
    "import numpy as np"
   ]
  },
  {
   "cell_type": "markdown",
   "id": "0be87b80",
   "metadata": {},
   "source": [
    "## Функция subplot()\n",
    "-- отображение нескольких координатных осей (Axes) в одном окне (Figure).\n",
    "\n",
    "```python\n",
    "plt.subplot(nrows, ncols, index)\n",
    "```\n",
    "`nrows`, `ncols` – число строк и столбцов; index – индекс текущих координатных осей. Например, мы можем разбить все пространство окна на одну строку и три столбца, получим 1 x 3 = 3 поля для отображения графиков:"
   ]
  },
  {
   "cell_type": "code",
   "execution_count": 2,
   "id": "95c6652a",
   "metadata": {},
   "outputs": [
    {
     "data": {
      "image/png": "[encoded data removed]",
      "text/plain": [
       "<Figure size 432x288 with 1 Axes>"
      ]
     },
     "metadata": {
      "needs_background": "light"
     },
     "output_type": "display_data"
    }
   ],
   "source": [
    "ax = plt.subplot()"
   ]
  },
  {
   "cell_type": "code",
   "execution_count": 3,
   "id": "c7bcce66",
   "metadata": {},
   "outputs": [
    {
     "data": {
      "text/plain": [
       "<AxesSubplot:>"
      ]
     },
     "execution_count": 3,
     "metadata": {},
     "output_type": "execute_result"
    },
    {
     "data": {
      "image/png": "[encoded data removed]",
      "text/plain": [
       "<Figure size 432x288 with 3 Axes>"
      ]
     },
     "metadata": {
      "needs_background": "light"
     },
     "output_type": "display_data"
    }
   ],
   "source": [
    "plt.subplot(1, 3, 1)\n",
    "plt.subplot(1, 3, 2)\n",
    "plt.subplot(1, 3, 3)"
   ]
  },
  {
   "cell_type": "code",
   "execution_count": 4,
   "id": "454a0614",
   "metadata": {},
   "outputs": [
    {
     "data": {
      "text/plain": [
       "<AxesSubplot:>"
      ]
     },
     "execution_count": 4,
     "metadata": {},
     "output_type": "execute_result"
    },
    {
     "data": {
      "image/png": "[encoded data removed]",
      "text/plain": [
       "<Figure size 432x288 with 2 Axes>"
      ]
     },
     "metadata": {
      "needs_background": "light"
     },
     "output_type": "display_data"
    }
   ],
   "source": [
    "plt.subplot(1, 3, 1)\n",
    "plt.subplot(1, 3, 3)"
   ]
  },
  {
   "cell_type": "code",
   "execution_count": 5,
   "id": "c48e5e70",
   "metadata": {
    "scrolled": true
   },
   "outputs": [
    {
     "data": {
      "image/png": "[encoded data removed]",
      "text/plain": [
       "<Figure size 432x288 with 4 Axes>"
      ]
     },
     "metadata": {
      "needs_background": "light"
     },
     "output_type": "display_data"
    }
   ],
   "source": [
    "ax1 = plt.subplot(2, 3, 1)\n",
    "ax2 = plt.subplot(2, 3, 2)\n",
    "ax3 = plt.subplot(2, 3, 3)\n",
    "ax4 = plt.subplot(2, 1, 2)"
   ]
  },
  {
   "cell_type": "code",
   "execution_count": null,
   "id": "030fd816",
   "metadata": {},
   "outputs": [],
   "source": []
  },
  {
   "cell_type": "markdown",
   "id": "0fcadcd5",
   "metadata": {},
   "source": [
    "## Функция subplots()\n",
    "\n",
    "С помощью функции `subplot()` не очень удобно оперировать большим числом координатных осей в пределах одной формы. Для этого лучше подходит другая похожая функция:\n",
    "\n",
    "```python\n",
    "plt.subplots(nrows, ncols)\n",
    "```\n",
    "`nrows`, `ncols` – число строк и столбцов.\n",
    "\n",
    "которая на выходе дает ссылку на фигуру и список координатных осей."
   ]
  },
  {
   "cell_type": "markdown",
   "id": "97057422",
   "metadata": {},
   "source": [
    "Создаем рисунок `fig` и 1 график `ax`."
   ]
  },
  {
   "cell_type": "code",
   "execution_count": 6,
   "id": "f7283c7b",
   "metadata": {},
   "outputs": [
    {
     "data": {
      "image/png": "[encoded data removed]",
      "text/plain": [
       "<Figure size 432x288 with 1 Axes>"
      ]
     },
     "metadata": {
      "needs_background": "light"
     },
     "output_type": "display_data"
    }
   ],
   "source": [
    "# Аналогично plt.subplots(1, 1, 1)\n",
    "fig, ax = plt.subplots()"
   ]
  },
  {
   "cell_type": "code",
   "execution_count": 7,
   "id": "9a20b19e",
   "metadata": {},
   "outputs": [
    {
     "data": {
      "image/png": "[encoded data removed]",
      "text/plain": [
       "<Figure size 432x288 with 1 Axes>"
      ]
     },
     "execution_count": 7,
     "metadata": {},
     "output_type": "execute_result"
    }
   ],
   "source": [
    "fig"
   ]
  },
  {
   "cell_type": "code",
   "execution_count": 8,
   "id": "490ba413",
   "metadata": {},
   "outputs": [
    {
     "data": {
      "text/plain": [
       "<AxesSubplot:>"
      ]
     },
     "execution_count": 8,
     "metadata": {},
     "output_type": "execute_result"
    }
   ],
   "source": [
    "ax"
   ]
  },
  {
   "cell_type": "code",
   "execution_count": null,
   "id": "363a4028",
   "metadata": {},
   "outputs": [],
   "source": []
  },
  {
   "cell_type": "code",
   "execution_count": 9,
   "id": "97988e58",
   "metadata": {
    "scrolled": true
   },
   "outputs": [
    {
     "data": {
      "image/png": "[encoded data removed]",
      "text/plain": [
       "<Figure size 432x288 with 4 Axes>"
      ]
     },
     "metadata": {
      "needs_background": "light"
     },
     "output_type": "display_data"
    }
   ],
   "source": [
    "f, ax = plt.subplots(2, 2)"
   ]
  },
  {
   "cell_type": "markdown",
   "id": "2ca6cff6",
   "metadata": {},
   "source": [
    "Причем, оси здесь создаются сразу в отличие от функции `subplot()`. Далее, мы можем взять любой объект `Axes`, чтобы работать с нужным нам полем, например, так:"
   ]
  },
  {
   "cell_type": "code",
   "execution_count": 10,
   "id": "502158ad",
   "metadata": {},
   "outputs": [
    {
     "data": {
      "text/plain": [
       "array([[<AxesSubplot:>, <AxesSubplot:>],\n",
       "       [<AxesSubplot:>, <AxesSubplot:>]], dtype=object)"
      ]
     },
     "execution_count": 10,
     "metadata": {},
     "output_type": "execute_result"
    }
   ],
   "source": [
    "ax"
   ]
  },
  {
   "cell_type": "code",
   "execution_count": 11,
   "id": "588a2d97",
   "metadata": {},
   "outputs": [],
   "source": [
    "ax[0, 0].plot(np.arange(0, 5, 0.2))\n",
    "ax[0, 0].grid()\n",
    "ax[0, 1].plot(np.arange(5, 0, -0.2))\n",
    "ax[0, 1].grid()"
   ]
  },
  {
   "cell_type": "code",
   "execution_count": null,
   "id": "c085f65e",
   "metadata": {},
   "outputs": [],
   "source": []
  },
  {
   "cell_type": "markdown",
   "id": "6d75a70b",
   "metadata": {},
   "source": [
    "## Объект Figure\n",
    "\n",
    "Объект `Figure` можно создавать и независимо с помощью класса `Figure`, например, так."
   ]
  },
  {
   "cell_type": "code",
   "execution_count": 12,
   "id": "2d95a520",
   "metadata": {},
   "outputs": [
    {
     "data": {
      "text/plain": [
       "<Figure size 432x288 with 0 Axes>"
      ]
     },
     "metadata": {},
     "output_type": "display_data"
    }
   ],
   "source": [
    "fig = plt.figure(figsize=(6, 4))"
   ]
  },
  {
   "cell_type": "markdown",
   "id": "4e407c2d",
   "metadata": {},
   "source": [
    "Если нам нужно на ранее созданной фигуре отображать графики, то мы должны сразу после создания записать функцию `plot()`:"
   ]
  },
  {
   "cell_type": "code",
   "execution_count": 13,
   "id": "a52d01a7",
   "metadata": {},
   "outputs": [
    {
     "data": {
      "text/plain": [
       "[<matplotlib.lines.Line2D at 0x11909370>]"
      ]
     },
     "execution_count": 13,
     "metadata": {},
     "output_type": "execute_result"
    },
    {
     "data": {
      "image/png": "[encoded data removed]",
      "text/plain": [
       "<Figure size 432x288 with 1 Axes>"
      ]
     },
     "metadata": {
      "needs_background": "light"
     },
     "output_type": "display_data"
    }
   ],
   "source": [
    "fig = plt.figure(figsize=(6, 4))\n",
    "plt.plot(np.arange(0, 5, 0.2))"
   ]
  },
  {
   "cell_type": "markdown",
   "id": "602baae4",
   "metadata": {},
   "source": [
    "Либо, отдельно создать координатную ось и, затем, в ней отображать графики:"
   ]
  },
  {
   "cell_type": "code",
   "execution_count": 14,
   "id": "c9cd816d",
   "metadata": {
    "scrolled": true
   },
   "outputs": [
    {
     "data": {
      "text/plain": [
       "[<matplotlib.lines.Line2D at 0x113ee9a0>]"
      ]
     },
     "execution_count": 14,
     "metadata": {},
     "output_type": "execute_result"
    },
    {
     "data": {
      "image/png": "[encoded data removed]",
      "text/plain": [
       "<Figure size 432x288 with 1 Axes>"
      ]
     },
     "metadata": {
      "needs_background": "light"
     },
     "output_type": "display_data"
    }
   ],
   "source": [
    "fig = plt.figure(figsize=(6, 4))\n",
    "ax1 = fig.add_axes([0.0, 0, 1.0, 1.0])\n",
    "ax1.plot(np.arange(0, 5, 0.2))"
   ]
  },
  {
   "cell_type": "markdown",
   "id": "6d0dea37",
   "metadata": {},
   "source": [
    "Здесь список параметров в методе `add_axes()` следует интерпретировать как:\n",
    "```python\n",
    "[pos_x, pos_y, width, height]\n",
    "```\n",
    "Причем, все значения определяются в интервале [0; 1] и, фактически определяют долю от ширины или высоты окна. В данном случае оси занимают все пространство окна. То есть, с помощью метода `add_axes()` можно располагать координатные оси совершенно произвольным образом.\n",
    "\n",
    "Другой способ добавления осей в фигуру – метод `add_subplot()`:"
   ]
  },
  {
   "cell_type": "code",
   "execution_count": 15,
   "id": "237e1d63",
   "metadata": {},
   "outputs": [
    {
     "data": {
      "text/plain": [
       "[<matplotlib.lines.Line2D at 0x1196d9a0>]"
      ]
     },
     "execution_count": 15,
     "metadata": {},
     "output_type": "execute_result"
    },
    {
     "data": {
      "image/png": "[encoded data removed]",
      "text/plain": [
       "<Figure size 432x288 with 1 Axes>"
      ]
     },
     "metadata": {
      "needs_background": "light"
     },
     "output_type": "display_data"
    }
   ],
   "source": [
    "fig = plt.figure(figsize=(6, 4))\n",
    "ax1 = fig.add_subplot(1, 3, 1)\n",
    "ax1.plot(np.arange(0, 5, 0.2))"
   ]
  },
  {
   "cell_type": "code",
   "execution_count": 16,
   "id": "826adc9e",
   "metadata": {},
   "outputs": [
    {
     "data": {
      "image/png": "[encoded data removed]",
      "text/plain": [
       "<Figure size 648x216 with 3 Axes>"
      ]
     },
     "metadata": {
      "needs_background": "light"
     },
     "output_type": "display_data"
    }
   ],
   "source": [
    "fig = plt.figure()\n",
    "fig.set_size_inches(9, 3)     # размер 4 x 4 дюймов\n",
    "ax1 = fig.add_subplot(1, 3, 1)\n",
    "ax2 = fig.add_subplot(1, 3, 2)\n",
    "ax3 = fig.add_subplot(1, 3, 3)"
   ]
  },
  {
   "cell_type": "code",
   "execution_count": null,
   "id": "9540f44b",
   "metadata": {},
   "outputs": [],
   "source": []
  },
  {
   "cell_type": "markdown",
   "id": "7a44d870",
   "metadata": {},
   "source": [
    "## Готовый шаблон\n",
    "\n",
    "Наиболее часто употребляемый"
   ]
  },
  {
   "cell_type": "code",
   "execution_count": 17,
   "id": "f6d9fc44",
   "metadata": {},
   "outputs": [
    {
     "data": {
      "text/plain": [
       "<matplotlib.legend.Legend at 0x11ad2310>"
      ]
     },
     "execution_count": 17,
     "metadata": {},
     "output_type": "execute_result"
    },
    {
     "data": {
      "image/png": "[encoded data removed]",
      "text/plain": [
       "<Figure size 432x288 with 1 Axes>"
      ]
     },
     "metadata": {
      "needs_background": "light"
     },
     "output_type": "display_data"
    }
   ],
   "source": [
    "import matplotlib.pyplot as plt\n",
    "import numpy as np\n",
    "\n",
    "fig = plt.figure(figsize=(6, 4))\n",
    "ax = fig.add_subplot()\n",
    "plt.title(\"Имя графика\")\n",
    "ax.plot([1, 2, 3], [6, 5, 3], 'ro', label='красные точки')\n",
    "ax.plot([1, 2, 3], [3, 4, 6], 'b:', label='синий пунктир')\n",
    "ax.set_xlabel(\"Переменная $x$\")\n",
    "ax.set_ylabel(\"Переменная $y$\")\n",
    "ax.grid()\n",
    "ax.legend(loc=\"upper right\", framealpha=0.95)\n",
    "# plt.savefig(\"pics/graph.png\")\n",
    "# plt.show()"
   ]
  },
  {
   "cell_type": "code",
   "execution_count": null,
   "id": "be4d909b",
   "metadata": {},
   "outputs": [],
   "source": []
  },
  {
   "cell_type": "code",
   "execution_count": null,
   "id": "e1280e29",
   "metadata": {},
   "outputs": [],
   "source": []
  }
 ],
 "metadata": {
  "kernelspec": {
   "display_name": "Python 3",
   "language": "python",
   "name": "python3"
  },
  "language_info": {
   "codemirror_mode": {
    "name": "ipython",
    "version": 3
   },
   "file_extension": ".py",
   "mimetype": "text/x-python",
   "name": "python",
   "nbconvert_exporter": "python",
   "pygments_lexer": "ipython3",
   "version": "3.8.11"
  }
 },
 "nbformat": 4,
 "nbformat_minor": 5
}
