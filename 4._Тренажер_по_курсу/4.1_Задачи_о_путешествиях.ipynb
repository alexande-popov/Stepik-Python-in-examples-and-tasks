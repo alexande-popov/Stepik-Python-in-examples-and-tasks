{
 "cells": [
  {
   "cell_type": "markdown",
   "id": "f171cfdc",
   "metadata": {},
   "source": [
    "# 4.1 Задачи о путешествиях"
   ]
  },
  {
   "cell_type": "markdown",
   "id": "5fe8a064",
   "metadata": {},
   "source": [
    "## Step 1 Задача\n",
    "\n",
    "Семья из трех человек планирует поехать отдыхать из города **А** в город **B**. Можно полететь самолетом, а можно – на своей машине.\n",
    "\n",
    "Билет на самолет на одного человека стоит **k** рублей туда и обратно. Автомобиль расходует 12 литров бензина на 100 км, а цена бензина –  **p** рублей за 1 литр. Расстояние от города **А** до **В** -  s км. Сколько рублей придется заплатить за самую дешевую поездку на троих туда и обратно?\n",
    "\n",
    "**Входные данные:**\n",
    "\n",
    "* стоимость билета на самолет (вещественное число);\n",
    "* цена бензина (вещественное число);\n",
    "* расстояние от города А до города В (вещественное число).\n",
    "\n",
    "**Выходные данные:**\n",
    "\n",
    "* сумма самой дешевой поездки (вещественное число) или `error`, если введены ошибочные данные.\n",
    "* Результат округлить до двух знаков после запятой (использовать функцию `round()`).\n",
    "\n",
    "___\n",
    "\n",
    "**Sample Input 1:**\n",
    "```\n",
    "-5\n",
    "60\n",
    "0\n",
    "```\n",
    "**Sample Output 1:**\n",
    "```\n",
    "error\n",
    "```\n",
    "___\n",
    "\n",
    "**Sample Input 2:**\n",
    "```\n",
    "4500.89\n",
    "45\n",
    "1800\n",
    "```\n",
    "**Sample Output 2:**\n",
    "```\n",
    "13502.67\n",
    "```\n",
    "___\n",
    "\n",
    "**Sample Input 3:**\n",
    "```\n",
    "5556.7\n",
    "47.5\n",
    "500\n",
    "```\n",
    "**Sample Output 3:**\n",
    "```\n",
    "5700.0\n",
    "```"
   ]
  },
  {
   "cell_type": "code",
   "execution_count": 1,
   "id": "03ee3f41",
   "metadata": {},
   "outputs": [],
   "source": [
    "# стоимость билета на самолет\n",
    "# k = float(input())\n",
    "k = float('-5')\n",
    "\n",
    "# стоимость бензина\n",
    "# p = float(input())\n",
    "p = float('60')\n",
    "\n",
    "# расстояние от города А до города В\n",
    "# s = float(input())\n",
    "s = float('0')"
   ]
  },
  {
   "cell_type": "code",
   "execution_count": 2,
   "id": "e09492e5",
   "metadata": {},
   "outputs": [
    {
     "name": "stdout",
     "output_type": "stream",
     "text": [
      "error\n"
     ]
    }
   ],
   "source": [
    "if k <= 0 or p <= 0 or s <= 0:\n",
    "    print('error')\n",
    "else:\n",
    "    # на самолете за троих\n",
    "    air_total = k * 3\n",
    "\n",
    "    # на машине\n",
    "    car_total = 2 * s / 100 * 12 * p\n",
    "    \n",
    "    res = min(air_total, car_total)\n",
    "    print(round(res, 2))"
   ]
  },
  {
   "cell_type": "code",
   "execution_count": null,
   "id": "b9e13bd8",
   "metadata": {},
   "outputs": [],
   "source": []
  },
  {
   "cell_type": "markdown",
   "id": "e7810f8e",
   "metadata": {},
   "source": [
    "## Step 2 Задача\n",
    "\n",
    "Во многих странах очень популярным транспортом для передвижения по городу  является велосипед. А пользуются им так. Скачиваешь приложение на телефон, видишь на улице велосипед, подходишь,  с помощью приложения открываешь замок, едешь, куда тебе нужно. Там оставляешь велосипед, закрываешь замок. За поездку с тебя списываются деньги. Все просто и удобно.\n",
    "\n",
    "Но проблема \"недобросовестных\" пользователей, то есть тех, кто решил присвоить велосипед, была, есть и будет. Выявляют таких пользователей следующим образом: если замок на велосипеде открыт более 12 часов – велосипед нужно срочно искать.\n",
    "\n",
    "Написать программу, которая выводит номера всех велосипедов, которые открыты более 12 часов.\n",
    "\n",
    "**Входные данные:**\n",
    "\n",
    "* строка, состоящая из значений, разделенных пробелами. Каждое значение либо 0, если велосипедом не пользуются, либо количество минут, прошедших с момента открытия замка. Номер значения времени в списке соответствует номеру велосипеда, нумерация начинается с 0.\n",
    "\n",
    "**Выходные данные:**\n",
    "\n",
    "* номера велосипедов, которые открыты больше 12 часов, каждый номер вывести на отдельной строке.\n",
    "\n",
    "___\n",
    "\n",
    "**Sample Input 1:**\n",
    "```\n",
    "345 682 160 547 310 1054 232 552 236 0 0 783 0 0\n",
    "```\n",
    "**Sample Output 1:**\n",
    "```\n",
    "5\n",
    "11\n",
    "```\n",
    "___\n",
    "\n",
    "**Sample Input 2:**\n",
    "```\n",
    "481 0 353 0 382 21 893 0 0 0 39 883 303 1000 400 1146 0\n",
    "```\n",
    "**Sample Output 2:**\n",
    "```\n",
    "6\n",
    "11\n",
    "13\n",
    "15\n",
    "```"
   ]
  },
  {
   "cell_type": "code",
   "execution_count": 3,
   "id": "77535094",
   "metadata": {},
   "outputs": [
    {
     "name": "stdout",
     "output_type": "stream",
     "text": [
      "6\n",
      "11\n",
      "13\n",
      "15\n"
     ]
    }
   ],
   "source": [
    "import numpy as np\n",
    "\n",
    "#times_minutes = np.array(input().split(), dtype=int)\n",
    "times_minutes = np.array('481 0 353 0 382 21 893 0 0 0 39 883 303 1000 400 1146 0'.split(), dtype=int)\n",
    "\n",
    "times_hours = times_minutes / 60\n",
    "\n",
    "print(*np.where(times_hours > 12)[0], sep='\\n')"
   ]
  },
  {
   "cell_type": "code",
   "execution_count": null,
   "id": "17f465b9",
   "metadata": {},
   "outputs": [],
   "source": []
  },
  {
   "cell_type": "markdown",
   "id": "2bddbeac",
   "metadata": {},
   "source": [
    "## Step 3 Задача\n",
    "\n",
    "В городе-государстве Сингапур предприняты меры для предотвращения пробок на дорогах. В частности, проезд по большей части городских дорог платный. При этом плата за проезд на отдельном участке меняется в зависимости от количества машин, находящихся на дороге  в определенный момент времени: чем больше машин, тем больше плата, чем меньше машин, тем плата меньше.\n",
    "\n",
    "Автомобиль из пункта А в пункт В проезжает по нескольким участкам дорог определенной длины. Для каждого участка известно среднее количество машин, находящихся на нем, в момент времени, когда там проезжает автомобиль. Плата за проезд по любому участку вычисляется в зависимости от количества автомобилей на 1 км дороги:\n",
    "```\n",
    "Интервал (шт/км)   Оплата (S$)\n",
    "  <=30               1\n",
    "  от 31 до 60        1.5\n",
    "  61 до 120          3\n",
    "  >120               4.5\n",
    "```\n",
    "Необходимо посчитать сумму, которую автомобилист должен заплатить за проезд из пункта А в пункт В как сумму платы за проезд по каждому участку.\n",
    "\n",
    "**Входные данные:**\n",
    "\n",
    "* строка, в которой через пробел перечислены длины всех участков дороги (целые числа);\n",
    "* строка, в которой через пробел перечислены средние количества машин на участке (целые числа).\n",
    "\n",
    "**Выходные данные:**\n",
    "\n",
    "* длина пути от А до В;\n",
    "* Плата за проезд по дорогам.\n",
    "\n",
    "Для вывода значения использовать строку формата:\n",
    "```\n",
    "\"Длина пути: %3d км, оплата: %5.2f S$\" \n",
    "```\n",
    "\n",
    "**Пояснение:**\n",
    "\n",
    "При вычислении количества автомобилей на 1 км дороги, полученное значение округлить до целого.\n",
    "\n",
    "___\n",
    "\n",
    "**Sample Input 1:**\n",
    "```\n",
    "5 2 2 4 3 4 4\n",
    "432 202 40 124 106 104 76\n",
    "```\n",
    "**Sample Output 1:**\n",
    "```\n",
    "Длина пути:  24 км, оплата: 12.00 S$\n",
    "```\n",
    "___\n",
    "\n",
    "**Sample Input 2:**\n",
    "```\n",
    "6 4 5 3 3 2 6 5 4 4 4\n",
    "318 197 50 189 367 26 610 633 96 106 71\n",
    "```\n",
    "**Sample Output 2:**\n",
    "```\n",
    "Длина пути:  46 км, оплата: 23.00 S$\n",
    "```"
   ]
  },
  {
   "cell_type": "code",
   "execution_count": 4,
   "id": "92937136",
   "metadata": {},
   "outputs": [
    {
     "name": "stdout",
     "output_type": "stream",
     "text": [
      "Длина пути:  46 км, оплата: 23.00 S$\n"
     ]
    }
   ],
   "source": [
    "def price(x):\n",
    "    prices = {x <= 30: 1, \n",
    "              31 <= x <= 60: 1.5, \n",
    "              61 <= x <= 120: 3, \n",
    "              x > 120 : 4.5}\n",
    "    return prices[True]\n",
    "\n",
    "# длины всех участков дороги\n",
    "# lenthes = [int(i) for i in input().split()]\n",
    "lenthes = [int(i) for i in '6 4 5 3 3 2 6 5 4 4 4'.split()]\n",
    "\n",
    "# средние количества машин на участке\n",
    "# cars = [int(i) for i in input().split()]\n",
    "cars = [int(i) for i in '318 197 50 189 367 26 610 633 96 106 71'.split()]\n",
    "\n",
    "s, cash_total = 0, 0\n",
    "for i in range(len(lenthes)):\n",
    "    s += lenthes[i]\n",
    "    cash_total += price(cars[i] // lenthes[i])\n",
    "    \n",
    "print(\"Длина пути: %3d км, оплата: %5.2f S$\" % (s, cash_total))"
   ]
  },
  {
   "cell_type": "code",
   "execution_count": null,
   "id": "d2aad937",
   "metadata": {},
   "outputs": [],
   "source": []
  },
  {
   "cell_type": "markdown",
   "id": "86bee223",
   "metadata": {},
   "source": [
    "## Step 4 Задача\n",
    "\n",
    "Многие постройки древности, расположенные в Египте, Перу и других странах, имеют форму правильной пирамиды, в основании которой лежит квадрат.\n",
    "\n",
    "Например, пирамида Хеопса имеет длину стороны основания — 230 м, а высоту — 146,6 м.\n",
    "\n",
    "Даны длины стороны основания и высоты нескольких пирамид. Вывести номера пирамид, имеющих максимальный объем, и номера пирамид, имеющих минимальную площадь боковой поверхности.\n",
    "\n",
    "**Входные данные:**\n",
    "\n",
    "* строка, в которой через пробел перечислены длины оснований (вещественные числа);\n",
    "* строка, в которой через пробел перечислены высоты пирамид (вещественные числа).\n",
    "\n",
    "**Выходные данные:**\n",
    "\n",
    "* номер пирамиды (нумерация начинается с 0), имеющей максимальный объем, и значение объема;\n",
    "* номер пирамиды (нумерация начинается с 0), имеющей минимальную площадь боковой поверхности, и значение площади.\n",
    "\n",
    "Для вывода значения использовать строку формата:\n",
    "```\n",
    "\"Vmax: %2d, %8.2f, Smin: %2d, %8.2f\"\n",
    "```\n",
    "\n",
    "**Пояснение:**\n",
    "\n",
    "Если получится несколько пирамид с одинаковым объемом или площадью - вывести индекс первой пирамиды.\n",
    "\n",
    "___\n",
    "\n",
    "**Sample Input:**\n",
    "```\n",
    "144 189 230 219 215 \n",
    "94 105 146.6 105 144\n",
    "```\n",
    "**Sample Output:**\n",
    "```\n",
    "Vmax:  2, 2585046.67, Smin:  0, 34100.95\n",
    "```"
   ]
  },
  {
   "cell_type": "code",
   "execution_count": 5,
   "id": "63053e5f",
   "metadata": {},
   "outputs": [],
   "source": [
    "# строка форматного вывода\n",
    "# \"Vmax: %2d, %8.2f, Smin: %2d, %8.2f\"\n",
    "\n",
    "import numpy as np\n",
    "\n",
    "# длины оснований\n",
    "# line = input()\n",
    "# a = np.array(line.split(), dtype=float)\n",
    "\n",
    "# высоты пирамид\n",
    "# line = input()\n",
    "# h = np.array(line.split(), dtype=float)"
   ]
  },
  {
   "cell_type": "code",
   "execution_count": 6,
   "id": "cd899af2",
   "metadata": {},
   "outputs": [
    {
     "name": "stdout",
     "output_type": "stream",
     "text": [
      "Vmax:  2, 2585046.67, Smin:  0, 34100.95\n"
     ]
    }
   ],
   "source": [
    "# длины оснований\n",
    "line = '144 189 230 219 215'\n",
    "a = np.array(line.split(), dtype=float)\n",
    "\n",
    "# высоты пирамид\n",
    "line = '94 105 146.6 105 144'\n",
    "h = np.array(line.split(), dtype=float)\n",
    "\n",
    "base_area = a**2\n",
    "side_area = 0.5 * a * ((a/2)**2 + h**2)**(0.5) # 1 face\n",
    "\n",
    "v = 1/3 * base_area * h\n",
    "s = 4*side_area # side area - 4 faces\n",
    "\n",
    "v_max = np.max(v)\n",
    "s_min = np.min(s)\n",
    "\n",
    "v_max_idx = np.where(v==v_max)\n",
    "s_min_idx = np.where(s==s_min)\n",
    "\n",
    "print(\"Vmax: %2d, %8.2f, Smin: %2d, %8.2f\" % (*v_max_idx[0], v_max, *s_min_idx[0], s_min))"
   ]
  },
  {
   "cell_type": "code",
   "execution_count": null,
   "id": "35687c20",
   "metadata": {},
   "outputs": [],
   "source": []
  },
  {
   "cell_type": "markdown",
   "id": "a1b61824",
   "metadata": {},
   "source": [
    "## Step 5 Задача\n",
    "\n",
    "Самое большое колесо обозрения находится в Лас-Вегасе. Его высота составляет 167 метров. Полный оборот колесо делает за 30 минут,  вместимость кабинки 40 человек. Немногим уступает ему колесо обозрение в Сингапуре, его высота - 165 метров, высота колеса в Лондоне - 135 метров, в Сочи - 80 метров.\n",
    "\n",
    "Пусть колесо обозрения имеет высоту **H**, совершает полный оборот за **T** минут. Вычислить, на какой высоте будет находиться кабинка через **t** минут после посадки в нее людей . В задаче реализовать проверку входных данных (время движения t ограничено T минутами), при вводе неверного числа вывести \"error\".\n",
    "\n",
    "**Входные данные:**\n",
    "\n",
    "* высота колеса H (целое число);\n",
    "* время полного оборота Т (целое число);\n",
    "* время в минутах t (вещественное число).\n",
    "\n",
    "**Выходные данные:**\n",
    "\n",
    "* высота кабинки над землей (вещественное число) или \"error\", если введены неверные данные.\n",
    "\n",
    "Для вывода значения использовать строку формата:\n",
    "```\n",
    "\"Высота = %6.2f м\"\n",
    "```\n",
    "\n",
    "**Пояснение (можно придумать и другое решение!):**\n",
    "\n",
    "* Начало координат расположите в центре колеса\n",
    "* Кабинку считать точкой на плоскости с координатами x и y (y - высота кабинки).\n",
    "* Посадка людей в кабинку осуществляется в самой нижней точке колеса.\n",
    "* Для вычисления положения кабинки используете матрицу поворота точки относительно начала координат.\n",
    "* Угол поворота (в градусах) вычислите по формуле: \n",
    "$\\phi = \\frac{360\\dot t}{T}$\n",
    "\n",
    "___\n",
    "\n",
    "**Sample Input 1:**\n",
    "```\n",
    "167\n",
    "30\n",
    "15\n",
    "```\n",
    "**Sample Output 1:**\n",
    "```\n",
    "Высота = 167.00 м\n",
    "```\n",
    "___\n",
    "\n",
    "**Sample Input 2:**\n",
    "```\n",
    "165\n",
    "28\n",
    "30\n",
    "```\n",
    "**Sample Output 2:**\n",
    "```\n",
    "error\n",
    "```"
   ]
  },
  {
   "cell_type": "code",
   "execution_count": 7,
   "id": "c3945d62",
   "metadata": {},
   "outputs": [
    {
     "name": "stdout",
     "output_type": "stream",
     "text": [
      "Высота = 167.00 м\n"
     ]
    }
   ],
   "source": [
    "# строка форматного вывода\n",
    "# \"Высота = %6.2f м\"\n",
    "import math\n",
    "\n",
    "# высота колеса H (целое число);\n",
    "# время полного оборота Т (целое число);\n",
    "# время в минутах t (вещественное число).\n",
    "\n",
    "# H = int(input())\n",
    "# T = int(input())\n",
    "# t = float(input())\n",
    "\n",
    "H = 167\n",
    "T = 30\n",
    "t = 15\n",
    "\n",
    "if t > T or t < 0 or H <= 0 or T <= 0:\n",
    "    print('error')\n",
    "else:\n",
    "    phi = math.radians(t / T * 360)\n",
    "    h = H/2 * (1 - math.cos(phi))\n",
    "    print(\"Высота = %6.2f м\" % h)"
   ]
  },
  {
   "cell_type": "code",
   "execution_count": null,
   "id": "efb492d9",
   "metadata": {},
   "outputs": [],
   "source": []
  },
  {
   "cell_type": "markdown",
   "id": "3c4eb88e",
   "metadata": {},
   "source": [
    "## Step 6 Задача\n",
    "\n",
    "По данным Всемирного банка практически во всех странах ежегодно растет количество иностранных туристов, на рисунке приведено изменение численности иностранных туристов для Китая, Великобритании, США и Японии:\n",
    "\n",
    "![](https://ucarecdn.com/b59a76ad-c670-4468-b3b0-6f96fb66a139/)\n",
    "\n",
    "На основе данных о количестве  туристов в некоторой стране с 2005 по 2017 год спрогнозировать количество туристов в 2018 году. Затем сравнить полученный результат с известным значением этого показателя для страны, вычислить  относительную погрешность в процентах.\n",
    "\n",
    "**Входные данные:**\n",
    "\n",
    "* название страны (строка);\n",
    "* количество туристов (в миллионах человек), через пробел (вещественные числа);\n",
    "* степень полинома, которую нужно использовать для построения тренда (1, 2 или 3);\n",
    "* точное значение количества туристов в 2018 году (в миллионах человек).\n",
    "\n",
    "**Выходные данные:**\n",
    "\n",
    "* название страны;\n",
    "* прогнозируемое значение количества туристов;\n",
    "* относительная погрешность вычисления (в процентах).\n",
    "* Для вывода значений использовать строку формата:\n",
    "```\n",
    "\"Страна:%6s, прогноз:%6.3fмлн чел, относительная погрешность:%4.2fпроц.\" \n",
    "```\n",
    "___\n",
    "\n",
    "**Sample Input 1:**\n",
    "```\n",
    "Китай\n",
    "46.809 49.913 54.72 53.049 50.875 55.664 57.581 57.725 55.686 55.622 56.886 59.27 60.74\n",
    "3\n",
    "62.9\n",
    "```\n",
    "\n",
    "**Sample Output 1:**\n",
    "```\n",
    "Страна: Китай, прогноз:63.136млн чел, относительная погрешность:0.37проц.\n",
    "```\n",
    "___\n",
    "\n",
    "**Sample Input 2:**\n",
    "```\n",
    "Великобритания\n",
    "28.039 30.654 30.87 30.142 28.199 28.295 29.306 29.282 31.063 32.613 34.436 35.814 37.651\n",
    "3\n",
    "41.2\n",
    "```\n",
    "**Sample Output 2:**\n",
    "```\n",
    "Страна:Великобритания, прогноз:41.774млн чел, относительная погрешность:1.39проц.\n",
    "```"
   ]
  },
  {
   "cell_type": "code",
   "execution_count": 8,
   "id": "24eb78e6",
   "metadata": {},
   "outputs": [],
   "source": [
    "# строка форматного вывода\n",
    "# \"Страна:%6s, прогноз:%6.3fмлн чел, относительная погрешность:%4.2fпроц.\"\n",
    "import numpy as np\n",
    "\n",
    "def trend(x, coef):\n",
    "    \"\"\"Use np.polynomial.polynomial.polyval(x, coef)\"\"\"\n",
    "    \n",
    "    # inverst\n",
    "    # c[0]*x^n + c[1]*x^(n-1) + c[2]*x^(n-1) + ... + c[n]\n",
    "    coef = coef[::-1]\n",
    "    f = sum([coef[i] * x**i for i in range(len(coef))])\n",
    "    return f\n",
    "\n",
    "\n",
    "# название страны (строка);\n",
    "# количество туристов (в миллионах человек), через пробел (вещественные числа);\n",
    "# степень полинома, которую нужно использовать для построения тренда (1, 2 или 3);\n",
    "# точное значение количества туристов в 2018 году (в миллионах человек)\n",
    "\n",
    "# country_name = input()\n",
    "# tourists_num = np.array(input().split(), dtype=float)\n",
    "# polynomial_degree = int(input())\n",
    "# tourists_num2018  = float(input())"
   ]
  },
  {
   "cell_type": "code",
   "execution_count": 9,
   "id": "59d0be6a",
   "metadata": {},
   "outputs": [],
   "source": [
    "tourists_num_str = '46.809 49.913 54.72 53.049 50.875 55.664 57.581 57.725 55.686 55.622 56.886 59.27 60.74'\n",
    "\n",
    "country_name = 'Китай'\n",
    "tourists_num = np.array(tourists_num_str.split(), dtype=float)\n",
    "polynomial_degree = 3\n",
    "tourists_num2018  = 62.9"
   ]
  },
  {
   "cell_type": "code",
   "execution_count": 10,
   "id": "2af1ad6d",
   "metadata": {},
   "outputs": [
    {
     "name": "stdout",
     "output_type": "stream",
     "text": [
      "Страна: Китай, прогноз:63.136млн чел, относительная погрешность:0.37проц.\n"
     ]
    }
   ],
   "source": [
    "# 2005 ... 2017\n",
    "time_series = np.linspace(2005, 2017, len(tourists_num))\n",
    "\n",
    "# inverst\n",
    "# c[0]*x^n + c[1]*x^(n-1) + c[2]*x^(n-1) + ... + c[n]\n",
    "coefs = np.polyfit(x=time_series, y=tourists_num, deg=polynomial_degree)\n",
    "\n",
    "predict2018 = np.polynomial.polynomial.polyval(2018, coefs[::-1])\n",
    "abs_err = abs((predict2018 - tourists_num2018) / tourists_num2018) * 100\n",
    "\n",
    "print(\"Страна:%6s, прогноз:%6.3fмлн чел, относительная погрешность:%4.2fпроц.\" %\n",
    "      (country_name, predict2018, abs_err))"
   ]
  },
  {
   "cell_type": "code",
   "execution_count": 11,
   "id": "e22b4384",
   "metadata": {},
   "outputs": [
    {
     "data": {
      "text/plain": [
       "array([47.16012129, 50.06880254, 52.19918406, 53.68717501, 54.66868445,\n",
       "       55.27962148, 55.65589523, 55.93341482, 56.2480891 , 56.73582739,\n",
       "       57.53253859, 58.77413204, 60.59651664])"
      ]
     },
     "execution_count": 11,
     "metadata": {},
     "output_type": "execute_result"
    }
   ],
   "source": [
    "model = np.array([np.polynomial.polynomial.polyval(x, coefs[::-1]) for x in time_series])\n",
    "model"
   ]
  },
  {
   "cell_type": "code",
   "execution_count": 12,
   "id": "ed8a8414",
   "metadata": {},
   "outputs": [
    {
     "data": {
      "text/plain": [
       "[<matplotlib.lines.Line2D at 0x11396460>]"
      ]
     },
     "execution_count": 12,
     "metadata": {},
     "output_type": "execute_result"
    },
    {
     "data": {
      "image/png": "[encoded data removed]",
      "text/plain": [
       "<Figure size 432x288 with 1 Axes>"
      ]
     },
     "metadata": {
      "needs_background": "light"
     },
     "output_type": "display_data"
    }
   ],
   "source": [
    "import matplotlib.pyplot as plt\n",
    "plt.plot(time_series, tourists_num, 'ro')\n",
    "plt.plot(time_series, model)\n",
    "plt.plot(2018, predict2018, 'go')"
   ]
  },
  {
   "cell_type": "code",
   "execution_count": null,
   "id": "4b792867",
   "metadata": {},
   "outputs": [],
   "source": []
  }
 ],
 "metadata": {
  "kernelspec": {
   "display_name": "Python 3",
   "language": "python",
   "name": "python3"
  },
  "language_info": {
   "codemirror_mode": {
    "name": "ipython",
    "version": 3
   },
   "file_extension": ".py",
   "mimetype": "text/x-python",
   "name": "python",
   "nbconvert_exporter": "python",
   "pygments_lexer": "ipython3",
   "version": "3.8.11"
  }
 },
 "nbformat": 4,
 "nbformat_minor": 5
}
